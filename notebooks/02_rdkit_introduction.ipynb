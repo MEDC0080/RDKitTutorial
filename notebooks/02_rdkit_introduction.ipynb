{
 "cells": [
  {
   "cell_type": "markdown",
   "metadata": {},
   "source": [
    "# 02 - Introduction to RDKit\n",
    "\n",
    "Authored by: *Fredrik Svensson, Oliver Scott*\n",
    "\n",
    "Edited by: *Florion Peni*\n",
    "\n",
    "Please ensure you complete [`01_python_introduction.ipynb`](01_python_introduction.ipynb) before proceeding with the **RDKit-focused content** in this notebook. If you are already familiar with Python basics, you may skip the introduction and continue with this material.\n",
    "\n",
    "Note: *The code cells in this notebook are designed to be executed in sequence. Running lower cells without executing the preceding ones may result in errors.*\n",
    "\n",
    "### What is RDKit?\n",
    "\n",
    "**RDKit** is an open-source cheminformatics and machine-learning toolkit written in C++ and Python. It provides powerful tools for computational chemistry and molecular modelling.\n",
    "\n",
    "### What will we learn?\n",
    "\n",
    "RDKit is a comprehensive toolkit with too many functions to cover in a single session. To make learning manageable, we have selected a set of essential utilities frequently used by computational chemists. These topics are organised into notebooks:\n",
    "\n",
    "- **reading and writing molecular structures**: [`02_rdkit_introduction.ipynb`](02_rdkit_introduction.ipynb),\n",
    "- **working with molecular structures**: [`02_rdkit_introduction.ipynb`](02_rdkit_introduction.ipynb),\n",
    "- **substructure searching and filtering**: [`03_rdkit_substructure.ipynb`](03_rdkit_substructure.ipynb),\n",
    "- and **molecular similarity**: [`04_rdkit_similarity.ipynb`](04_rdkit_similarity.ipynb).\n",
    "\n",
    "In this notebook, we will cover the basics of RDKit, focusing on how to read, write, and manipulate molecular structures. For further learning, explore the [official RDKit Documentation](http://rdkit.org/docs/index.html).\n",
    "\n",
    "## Contents\n",
    "\n",
    "* [Using RDKit](#Using-RDKit)\n",
    "* [Molecular representation](#Molecular-representation)\n",
    "* [Molecular descriptors](#Molecular-descriptors)\n",
    "* [Reading molecules from files](#Reading-molecules-from-files)\n",
    "* [Conformers](#Conformers)\n",
    "* [Discussion](#Discussion)\n",
    "\n",
    "----\n",
    "\n",
    "## Using RDKit\n",
    "\n",
    "To access RDKit's functionality, we simply need to import it. If you encounter an error during the import, it could indicate that the installation failed. \n",
    "\n",
    "⚠️ <mark>Reach out for assistance with resolving installation issues.</mark>\n",
    "\n",
    "Most of RDKit's core utilities are available within the `Chem` package."
   ]
  },
  {
   "cell_type": "code",
   "execution_count": null,
   "metadata": {},
   "outputs": [],
   "source": [
    "from rdkit import Chem"
   ]
  },
  {
   "cell_type": "markdown",
   "metadata": {},
   "source": [
    "We can now access many useful functions.\n",
    "\n",
    "----\n",
    "\n",
    "## Molecular representation\n",
    "\n",
    "In cheminformatics, chemical structures can be represented in a variety of ways. RDKit supports reading and working with many of these representations.\n",
    "\n",
    "### SMILES (Simplified Molecular Input Line Entry Specification)\n",
    "\n",
    "SMILES is a widely used text-based representation of molecules.\n",
    "\n",
    "- Atoms are represented by their atomic symbols (e.g., C, O, F, Br, etc.).\n",
    "- Double bonds are represented by `=`.\n",
    "- Triple bonds are represented by `#`.\n",
    "- Rings are represented by matching pairs of digits (e.g., benzene: `c1ccccc1`).\n",
    "- Branching is indicated using parentheses.\n",
    "\n",
    "The figure below shows how the SMILES for **Ciprofloxacin**, a fluoroquinolone antibiotic, is retrieved.\n",
    "\n",
    "<img src=\"https://miro.medium.com/v2/resize:fit:1400/1*tuXqpPuKO9PBPwUx5jz5Nw.png\" alt=\"SMILES for Ciprofloxacin\" width=\"500\">\n",
    "\n",
    "[Image source](https://miro.medium.com/v2/resize:fit:1400/1*tuXqpPuKO9PBPwUx5jz5Nw.png)\n",
    "\n",
    "For the full SMILES specification, refer to the [Daylight website](https://www.daylight.com/dayhtml/doc/theory/theory.smiles.html).\n",
    "\n",
    "Using RDKit, we can read SMILES strings with the `Chem.MolFromSmiles()` function."
   ]
  },
  {
   "cell_type": "code",
   "execution_count": null,
   "metadata": {},
   "outputs": [],
   "source": [
    "smiles_1 = 'CC(=O)OC1=CC=CC=C1C(O)=O'   # This is the SMILES for Aspirin\n",
    "aspirin = Chem.MolFromSmiles(smiles_1)  # The molecule is loaded into an RDKit `Mol` object\n",
    "\n",
    "print(aspirin)"
   ]
  },
  {
   "cell_type": "markdown",
   "metadata": {},
   "source": [
    "Displaying a molecule as plain text is not particularly helpful. Instead, visualising the molecule as an image is much more informative. In **JupyterLab**, you can view molecules inline simply by typing the variable that holds the molecule and running the cell.\n",
    "\n",
    "Note: *If this feature does not work, include the following line at the top of the cell before running it:*\n",
    "\n",
    "```python\n",
    "from rdkit.Chem.Draw import IPythonConsole\n",
    "```"
   ]
  },
  {
   "cell_type": "code",
   "execution_count": null,
   "metadata": {},
   "outputs": [],
   "source": [
    "aspirin  # Running this cell should return the chemical structure of Aspirin"
   ]
  },
  {
   "cell_type": "markdown",
   "metadata": {},
   "source": [
    "If we want to display multiple molecules at the same time we need to use the `Draw` module. Let's try visualising two molecules using the `Draw.MolsToGridImage()` function."
   ]
  },
  {
   "cell_type": "code",
   "execution_count": null,
   "metadata": {},
   "outputs": [],
   "source": [
    "from rdkit.Chem import Draw \n",
    "\n",
    "# This is the SMILES for Remdesivir, an antiviral medicine for the treatment of COVID-19\n",
    "smiles_2 = 'CCC(CC)COC(=O)[C@H](C)N[P@](=O)(OC[C@@H]1[C@H]([C@H]([C@](O1)(C#N)C2=CC=C3N2N=CN=C3N)O)O)OC4=CC=CC=C4'\n",
    "remdesivir = Chem.MolFromSmiles(smiles_2)\n",
    "\n",
    "# Draw Aspirin and Remdesivir together\n",
    "mols = [aspirin, remdesivir]  # The function expects the molecules to be in a list\n",
    "Draw.MolsToGridImage(mols)"
   ]
  },
  {
   "cell_type": "markdown",
   "metadata": {},
   "source": [
    "We can also add legends."
   ]
  },
  {
   "cell_type": "code",
   "execution_count": null,
   "metadata": {},
   "outputs": [],
   "source": [
    "Draw.MolsToGridImage(mols, legends=['Aspirin', 'Remdesivir'])"
   ]
  },
  {
   "cell_type": "markdown",
   "metadata": {},
   "source": [
    "### Structure data format (SDF) file\n",
    "\n",
    "Information about a molecule's structure can be stored in an **SDF file**, a type of [chemical table file](https://en.wikipedia.org/wiki/Chemical_table_file). These files are widely used in computational chemistry to represent molecular data, including atom types, coordinates, and bonds.\n",
    "\n",
    "Below, the **phenol** molecule is encoded as a MolBlock, a specific format compatible with RDKit. The MolBlock encodes:\n",
    "\n",
    "1. **atom types** - specifies the types of atoms in the molecule (e.g., carbon `C` and oxygen `O`),\n",
    "2. **atomic positions** - defines the 2D or 3D coordinates of each atom in space,\n",
    "3. and **connectivity and bond types** - indicates how the atoms are connected (single, double, or other bond types).\n",
    "\n",
    "We assign this data to the `molblock` variable.\n",
    "\n",
    "Using RDKit, we can read this data and create a molecular representation using the `Chem.MolFromMolBlock()` function. Once loaded, the resulting object, `phenol`, can be used for further analysis or visualisation."
   ]
  },
  {
   "cell_type": "code",
   "execution_count": null,
   "metadata": {},
   "outputs": [],
   "source": [
    "# Define the MolBlock representation of the phenol molecule\n",
    "molblock = \"\"\"phenol\n",
    "  Mrv1682210081607082D          \n",
    "\n",
    "  7  7  0  0  0  0            999 V2000\n",
    "   -0.6473    1.0929    0.0000 C   0  0  0  0  0  0  0  0  0  0  0  0\n",
    "   -1.3618    0.6804    0.0000 C   0  0  0  0  0  0  0  0  0  0  0  0\n",
    "   -1.3618   -0.1447    0.0000 C   0  0  0  0  0  0  0  0  0  0  0  0\n",
    "   -0.6473   -0.5572    0.0000 C   0  0  0  0  0  0  0  0  0  0  0  0\n",
    "    0.0671   -0.1447    0.0000 C   0  0  0  0  0  0  0  0  0  0  0  0\n",
    "    0.0671    0.6804    0.0000 C   0  0  0  0  0  0  0  0  0  0  0  0\n",
    "    0.7816    1.0929    0.0000 O   0  0  0  0  0  0  0  0  0  0  0  0\n",
    "  1  2  1  0  0  0  0\n",
    "  2  3  2  0  0  0  0\n",
    "  3  4  1  0  0  0  0\n",
    "  4  5  2  0  0  0  0\n",
    "  5  6  1  0  0  0  0\n",
    "  1  6  2  0  0  0  0\n",
    "  6  7  1  0  0  0  0\n",
    "M  END\n",
    "\"\"\"\n",
    "\n",
    "# Load the molecule into an RDKit object\n",
    "phenol = Chem.MolFromMolBlock(molblock)\n",
    "\n",
    "# Display the object\n",
    "phenol"
   ]
  },
  {
   "cell_type": "markdown",
   "metadata": {},
   "source": [
    "----\n",
    "\n",
    "## Molecular descriptors\n",
    "\n",
    "Now we have three molecules we can find out some information about them. RDKit has a number of built-in functions that can be used to extract information from our molecules."
   ]
  },
  {
   "cell_type": "code",
   "execution_count": null,
   "metadata": {},
   "outputs": [],
   "source": [
    "# We can use the `.GetNumAtoms()` method to get the number of atoms in the molecule\n",
    "phenol_num_atoms = phenol.GetNumAtoms()\n",
    "print('Phenol has', phenol_num_atoms, 'atoms')"
   ]
  },
  {
   "cell_type": "markdown",
   "metadata": {},
   "source": [
    "##### Exercise 1: Reading molecules\n",
    "\n",
    "Using the SMILES string for **Acetaminophen** from its [PubChem entry](https://pubchem.ncbi.nlm.nih.gov/compound/1983#section=SMILES), complete the following tasks:\n",
    "\n",
    "1. Load the molecule into an RDKit `Mol` object.\n",
    "2. Print the number of atoms in the molecule.\n",
    "3. Print the number of bonds in the molecule.\n",
    "4. Draw the structure of the molecule."
   ]
  },
  {
   "cell_type": "code",
   "execution_count": null,
   "metadata": {},
   "outputs": [],
   "source": [
    "# Add your solution code here"
   ]
  },
  {
   "cell_type": "markdown",
   "metadata": {},
   "source": [
    "We can use the `Descriptors` module from the `Chem` package in RDKit to access a variety of molecular descriptors. These provide valuable information about a molecule's physical, chemical, and structural properties. \n",
    "\n",
    ">Molecular descriptors can be used for:\n",
    ">* **filtering compounds** - narrowing down a large set of molecules based on specific properties,\n",
    ">* and **building statistical models** - predicting activities of compounds toward biological targets or other chemical behaviors.\n",
    "\n",
    "Descriptors like molecular weight, logP, or topological polar surface area (TPSA) are commonly used in cheminformatics workflows."
   ]
  },
  {
   "cell_type": "code",
   "execution_count": null,
   "metadata": {},
   "outputs": [],
   "source": [
    "from rdkit.Chem import Descriptors\n",
    "\n",
    "smiles = 'CC(C)(C)NCC(O)C1=CC(CO)=C(O)C=C1'  # This is the SMILES for Salbutamol\n",
    "salbutamol = Chem.MolFromSmiles(smiles)\n",
    "\n",
    "# Calculate some interesting descriptors\n",
    "print('Salbutamol:' + '\\n' + '_' * 11)\n",
    "print('Heavy atoms:', Descriptors.HeavyAtomCount(salbutamol))\n",
    "print('H-bond donors:', Descriptors.NumHDonors(salbutamol))\n",
    "print('H-bond acceptors:', Descriptors.NumHAcceptors(salbutamol))\n",
    "print('Molecular weight:', Descriptors.MolWt(salbutamol), 'g/mol')\n",
    "print('LogP:', Descriptors.MolLogP(salbutamol))\n",
    "print('TPSA:', Descriptors.TPSA(salbutamol))\n",
    "\n",
    "salbutamol"
   ]
  },
  {
   "cell_type": "markdown",
   "metadata": {},
   "source": [
    "Uncomment the line below, place your cursor after the `.` and hit the `Tab` key. This will give an interactive list of all available functions from this module."
   ]
  },
  {
   "cell_type": "code",
   "execution_count": null,
   "metadata": {},
   "outputs": [],
   "source": [
    "# Descriptors."
   ]
  },
  {
   "cell_type": "markdown",
   "metadata": {},
   "source": [
    "##### Exercise 2: Molecular descriptors\n",
    "\n",
    "Using the SMILES string for **Celecoxib** from its [PubChem entry](https://pubchem.ncbi.nlm.nih.gov/compound/2662#section=SMILES), complete the following tasks:\n",
    "\n",
    "1. Load the molecule into an RDKit `Mol` object.\n",
    "2. Calculate and print five different molecular descriptors for it.\n",
    "3. Draw the structure of the molecule."
   ]
  },
  {
   "cell_type": "code",
   "execution_count": null,
   "metadata": {},
   "outputs": [],
   "source": [
    "# Add your solution code here"
   ]
  },
  {
   "cell_type": "markdown",
   "metadata": {},
   "source": [
    "----\n",
    "\n",
    "## Reading molecules from files\n",
    "\n",
    "SDF files can store multiple molecules separated by `$$$$`. Instead of reading and assigning each molecule individually, we can load all the molecules at once.\n",
    "\n",
    "Within the tutorial folder, `RDKitTutorial`, we have included a subdirectory called `data`. Inside this folder, there is a file named `approved_drugs.sdf`, which contains a collection of approved drugs.\n",
    "\n",
    "We can read SDF files with multiple molecules using the `Chem.SDMolSupplier()` function.\n",
    "\n",
    "Note: *You may encounter some warnings from RDKit, which can safely be ignored.*"
   ]
  },
  {
   "cell_type": "code",
   "execution_count": null,
   "metadata": {},
   "outputs": [],
   "source": [
    "from rdkit import Chem\n",
    "from rdkit.Chem import Descriptors\n",
    "\n",
    "# Path to the SDF file containing approved drugs\n",
    "approved_drugs_file = 'data/approved_drugs.sdf'\n",
    "\n",
    "# Read the file into a supplier of `Mol` objects using the `Chem.SDMolSupplier()` function\n",
    "# Each molecule in the SDF file is read as an RDKit `Mol` object\n",
    "supplier = Chem.SDMolSupplier(approved_drugs_file)\n",
    "\n",
    "# Initialise variables\n",
    "n = 0             # Counter to track the number of successfully read molecules\n",
    "mol_weights = []  # List to store molecular weights\n",
    "\n",
    "# Iterate through the supplier to load molecules one by one\n",
    "for molecule in supplier:\n",
    "    if molecule is None:   # Skip molecules that failed to parse (represented as `None`)\n",
    "        continue\n",
    "    num_atoms = molecule.GetNumAtoms()       # Extract the number of atoms in the molecule\n",
    "    mw = Descriptors.MolWt(molecule)         # Calculate the molecular weight using RDKit descriptors\n",
    "    mol_weights.append(mw)                   # Append the molecular weight to the list\n",
    "    # Extract additional properties stored in the SDF file (if available)\n",
    "    synonyms = molecule.GetProp('SYNONYMS')  # The `.GetProp()` method retrieves a property value by its key\n",
    "    # Print relevant information about the molecule\n",
    "    print(f\"Synonyms: {synonyms}, NumAtoms: {num_atoms}, MolecularWeight: {mw}\")\n",
    "    # Increment the counter for successfully read molecules\n",
    "    n += 1\n",
    "\n",
    "# Print the total number of successfully read molecules\n",
    "print(f\"\\nNumber of molecules read: {n}\")"
   ]
  },
  {
   "cell_type": "markdown",
   "metadata": {},
   "source": [
    "In the above code we stored the molecular weights of the molecules in the list `mol_weights`. What can we do with this information?\n",
    "\n",
    "We can perform basic analysis using Python's built-in functions. For example:\n",
    "- `len()`: to find the total number of molecular weights in the list,\n",
    "- `sum()`: to calculate the total sum of all molecular weights,\n",
    "- `max()`: to determine the heaviest molecule,\n",
    "- and `min()`: to find the lightest molecule.\n",
    "\n",
    "These simple statistics can provide valuable insights. If we wanted to visualise the distribution of molecular weights, we could use the [Matplotlib](https://matplotlib.org/) package for plotting. However, for now, we will stick to built-in Python functions to keep things simple."
   ]
  },
  {
   "cell_type": "code",
   "execution_count": null,
   "metadata": {},
   "outputs": [],
   "source": [
    "n = len(mol_weights)\n",
    "print(n)  # Should be the same as the number of molecules read\n",
    "\n",
    "maximum = max(mol_weights)\n",
    "print('Max MW:', maximum)\n",
    "\n",
    "minimum = min(mol_weights)\n",
    "print('Min MW:', minimum)\n",
    "\n",
    "mean = sum(mol_weights) / n\n",
    "print('Mean MW', mean)"
   ]
  },
  {
   "cell_type": "markdown",
   "metadata": {},
   "source": [
    "The built-in `statistics` package can provide us with further information."
   ]
  },
  {
   "cell_type": "code",
   "execution_count": null,
   "metadata": {},
   "outputs": [],
   "source": [
    "import statistics\n",
    "\n",
    "print('Median MW:         ', statistics.median(mol_weights))  # Median\n",
    "print('Standard deviation:', statistics.stdev(mol_weights))   # Standard deviation"
   ]
  },
  {
   "cell_type": "markdown",
   "metadata": {},
   "source": [
    "##### Exercise 3: Reading molecules from files\n",
    "\n",
    "Using the file `approved_drugs.sdf`, identify molecules with a molecular weight **higher than 350 g/mol**. \n",
    "\n",
    "1. Use `Chem.SDMolSupplier()` to read molecules from the file.\n",
    "2. Iterate through the molecules and calculate their molecular weights.\n",
    "3. Use conditionals (`if` ... `else`) to check if the molecular weight exceeds the threshold.\n",
    "4. Keep track of the number of molecules that meet this criterion. Use the `+=` operator to increment a counter.\n",
    "5. Use the `len` function if you store the molecules in a list."
   ]
  },
  {
   "cell_type": "code",
   "execution_count": null,
   "metadata": {},
   "outputs": [],
   "source": [
    "# Add your solution code here"
   ]
  },
  {
   "cell_type": "markdown",
   "metadata": {},
   "source": [
    "----\n",
    "\n",
    "## Conformers\n",
    "\n",
    "SDF files are a common source of 3D structural information for molecules, which is crucial for a range of cheminformatics applications:\n",
    "\n",
    "- **virtual screening** - helps in identifying potential candidates from vast chemical libraries that are likely to bind to specific drug targets\n",
    "- **shape-based similarity searching** - aids in discovering molecules that are structurally similar to a reference molecule, suggesting possible similar functions or activities,\n",
    "- **pharmacophore modelling** - crucial for determining the essential geometric features that molecules must possess to interact with specific biological targets,\n",
    "- and **3D-QSARs (Quantitative Structure-Activity Relationships)** - involves correlating the 3D chemical structure of molecules with their biological activity to predict the effects of new compounds.\n",
    "\n",
    "In instances where 3D data is not available, RDKit provides a solution by generating 3D conformations using the [ETKDG method](https://pubs.acs.org/doi/abs/10.1021/acs.jcim.5b00654). This technique can estimate the spatial arrangement of atoms in a molecule, which is particularly useful for computational studies. Try running the code below multiple times to observe how the generated conformations can vary, highlighting the **stochastic** nature of this method."
   ]
  },
  {
   "cell_type": "code",
   "execution_count": null,
   "metadata": {},
   "outputs": [],
   "source": [
    "from rdkit.Chem import AllChem  # We need some extra functions from `AllChem`\n",
    "\n",
    "smiles = r'[H]\\C(CN1CCCC1)=C(\\C1=CC=C(C)C=C1)C1=CC=CC(=N1)C(\\[H])=C(/[H])C(O)=O' # This is the SMILES for Acrivastine\n",
    "molecule = Chem.MolFromSmiles(smiles)                                            # Molecules read from SMILES are always 2D\n",
    "\n",
    "# Add hydrogens to create a more realistic molecular model\n",
    "molecule3d = Chem.AddHs(molecule)\n",
    "\n",
    "# Generate a single 3D conformation for the molecule\n",
    "AllChem.EmbedMolecule(molecule3d)\n",
    "\n",
    "# Draw the result\n",
    "Draw.MolsToGridImage([molecule, molecule3d], legends=['Acrivastine (2D)', 'Acrivastine (3D)'], subImgSize=(300, 300))"
   ]
  },
  {
   "cell_type": "markdown",
   "metadata": {},
   "source": [
    "To verify if the conformer generation was successful, you can compare the MolBlock outputs for the 2D molecule and its 3D conformation. You will see two sets of outputs: one for the 3D conformation with potentially all three x, y, and z coordinates showing variability, and one for the original 2D structure, where z-coordinates are typically zero."
   ]
  },
  {
   "cell_type": "code",
   "execution_count": null,
   "metadata": {},
   "outputs": [],
   "source": [
    "# Output the MolBlock representation of the 3D molecule\n",
    "print(\"3D MolBlock:\")\n",
    "print(Chem.MolToMolBlock(molecule3d))\n",
    "\n",
    "# To compare, convert the original 2D molecule to a MolBlock and print it\n",
    "print(\"2D MolBlock:\")\n",
    "print(Chem.MolToMolBlock(molecule))"
   ]
  },
  {
   "cell_type": "markdown",
   "metadata": {},
   "source": [
    "----\n",
    "\n",
    "## Discussion\n",
    "\n",
    "That concludes our introduction to RDKit. Feel free to add more code cells and experiment with the concepts you've learned.\n",
    "\n",
    "Now that you are familiar with the basic functionality of RDKit and have a solid grounding in Python, you are well-prepared to tackle more complex tasks. In the next notebook, [`03_rdkit_substructure.ipynb`](03_rdkit_substructure.ipynb), we will explore how to use **RDKit for substructure searching and filtering**.\n",
    "\n",
    "You can click [here](#Contents) to return to the top and review any topics as needed."
   ]
  }
 ],
 "metadata": {
  "kernelspec": {
   "display_name": "rdkit_tutorial",
   "language": "python",
   "name": "rdkit_tutorial"
  },
  "language_info": {
   "codemirror_mode": {
    "name": "ipython",
    "version": 3
   },
   "file_extension": ".py",
   "mimetype": "text/x-python",
   "name": "python",
   "nbconvert_exporter": "python",
   "pygments_lexer": "ipython3",
   "version": "3.13.1"
  }
 },
 "nbformat": 4,
 "nbformat_minor": 4
}
