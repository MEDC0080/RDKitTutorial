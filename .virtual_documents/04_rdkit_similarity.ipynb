


from rdkit import Chem
from rdkit.Chem import AllChem, Draw

smiles = 'c1cccnc1C'  # SMILES for 2-methylpyridine

# Convert the SMILES string to an RDKit `Mol` object and display it
mol = Chem.MolFromSmiles(smiles)
mol





# Generate a Morgan fingerprint with a radius of 2 as an integer vector
bit_info_int = {}
fp_int = AllChem.GetMorganFingerprint(mol, radius=2, bitInfo=bit_info_int)

# Generate a Morgan fingerprint with a radius of 2 as a bit vector of fixed length (2048 bits)
bit_info_bit = {}
fp_bit = AllChem.GetMorganFingerprintAsBitVect(mol, radius=2, nBits=2048, bitInfo=bit_info_bit)

# No output is expected from this cell
# You may ignore any `DEPRECATION WARNING` messages





# Display properties of the integer vector fingerprint
print('Integer vector fingerprint')
print('Length:', fp_int.GetLength())                           # The total length of the fingerprint (number of unique features)
print('Number of on-bits:', len(fp_int.GetNonzeroElements()))  # The number of features that are actually present (non-zero elements)

# Display properties of the bit vector fingerprint
print('\nBit vector fingerprint')
print('Length:', fp_bit.GetNumBits())                          # The total length of the fingerprint (fixed bit size, e.g., 2048)
print('Number of on-bits:', fp_bit.GetNumOnBits())             # The number of features that are actually present (bits set to 1)





fp_int.GetNonzeroElements()





bit_info_int # Stores the details in the format (atom index, radius)





# Retrieve information about the bit from the fingerprint
print("Bit 98513984 info (atom index, radius):", bit_info_int[98513984])

# Visualise the molecular environment corresponding to the specified bit
# `Draw.DrawMorganBit()` highlights the atom environment that caused the bit to be set
img = Draw.DrawMorganBit(mol, bitId=98513984, bitInfo=bit_info_int, useSVG=True)
img





# Write your solution code here, adding extra code cells if necessary





# Define aromatic compounds using SMILES
naphthalene = Chem.MolFromSmiles('c12ccccc1cccc2')
benzoxazole = Chem.MolFromSmiles('n1c2ccccc2oc1')
indane = Chem.MolFromSmiles('c1ccc2c(c1)CCC2')
skatole = Chem.MolFromSmiles('CC1=CNC2=CC=CC=C12')
benzene = Chem.MolFromSmiles('c1ccccc1')
quinoline = Chem.MolFromSmiles('n1cccc2ccccc12')

# Define a list holding the RDKit `Mol` objects
my_molecules = [
    naphthalene, 
    benzoxazole,
    indane,
    skatole,
    benzene,
    quinoline
]

# Define a separate list holding the names of the aromatic compounds
labels = [
    'Naphthalene', 
    'Benzoxazole',
    'Indane',
    'Skatole',
    'Benzene',
    'Quinoline'
]

# Visualise the aromatic compounds
img = Draw.MolsToGridImage(my_molecules, legends=labels)
img





query1 = my_molecules[0]  # Napthalene
query2 = my_molecules[1]  # Benzoxazole

# Generate bit vector Morgan fingerprints with a radius of 2
fp1 = AllChem.GetMorganFingerprintAsBitVect(query1, radius=2)
fp2 = AllChem.GetMorganFingerprintAsBitVect(query2, radius=2)

# No output is expected from this cell
# You may ignore any `DEPRECATION WARNING` messages





def tanimoto(fp1, fp2):
    """
    Calculates the Tanimoto coefficient between two bit vector fingerprints.
    
    Args:
        fp1: RDKit bit vector fingerprint for the first molecule.
        fp2: RDKit bit vector fingerprint for the second molecule.
    
    Returns:
        The Tanimoto similarity coefficient between the two fingerprints.
    """
    # Get the set of on-bits (indexes where the bit is set to 1) for the first fingerprint
    on_bits1 = set(fp1.GetOnBits())
    # Get the set of on-bits for the other fingerprint
    on_bits2 = set(fp2.GetOnBits())
    # Compute common bits set to 1 in both fingerprints
    intersection = len(on_bits1.intersection(on_bits2))
    # Compute total unique bits set to 1 across both fingerprints
    union = len(on_bits1.union(on_bits2))
    # Calculate the Tanimoto coefficient
    return intersection / union

# Calculate the Tanimoto similarity between the two fingerprints and print the result
print('Tanimoto similarity:', tanimoto(fp1, fp2))





from rdkit.DataStructs import TanimotoSimilarity, DiceSimilarity

print('Tanimoto similarity:', TanimotoSimilarity(fp1, fp2))
print('Dice similarity:', DiceSimilarity(fp1, fp2))





# Add your solution code here





from rdkit.SimDivFilters.rdSimDivPickers import MaxMinPicker
from rdkit import RDLogger

RDLogger.logger().setLevel(RDLogger.CRITICAL)  # Suppress `DEPRECATION WARNING` messages

approved_drugs_file = 'data/approved_drugs.sdf'

# Read the file into a supplier of `Mol` objects using the `Chem.SDMolSupplier()` function
# Each molecule in the SDF file is read as an RDKit `Mol` object
supplier = Chem.SDMolSupplier(approved_drugs_file)

molecules = []
fingerprints = []

# Iterate through `Mol` objects in `supplier`
for molecule in supplier:
    if molecule is None:  
        continue  # Skip invalid molecules
    molecules.append(molecule)  # Add valid molecule to the list
    fp = AllChem.GetMorganFingerprint(molecule, radius=3)  # Generate a Morgan fingerprint with a radius of 3 as an integer vector
    fingerprints.append(fp)  # Add fingerprint to the list

# Print the number of molecules and fingerprints generated
print("Number of molecules:", len(molecules))
print("Number of fingerprints:", len(fingerprints))

# Create a `MaxMinPicker` object to perform diversity picking
picker = MaxMinPicker()

RDLogger.logger().setLevel(RDLogger.WARNING)  # Re-enable RDKit warnings





def distance_ij(i, j, fps=fingerprints):
    """
    Calculate the distance between two fingerprints at indexes `i` and `j`.
    
    Parameters:
        i, j (int): Indexes of the fingerprints to compare.
        fps (list): List of RDKit fingerprint objects.
    
    Returns:
        float: Distance between the fingerprints.
    """
    similarity = DiceSimilarity(fps[i], fps[j])  # Compute Dice similarity
    return 1 - similarity  # Convert similarity to distance

# No output is expected from the execution of this cell





# Select two molecule indexes to compare
i = 22
j = 111

# Calculate the distance between their fingerprints
dist = distance_ij(i, j, fps=fingerprints)
print(f'Distance between molecules {i} and {j}: {dist}')

# Retrieve the corresponding molecules
molecule_i = molecules[i]
molecule_j = molecules[j]

# Generate 2D coordinates for better visualisation
AllChem.Compute2DCoords(molecule_i)
AllChem.Compute2DCoords(molecule_j)

# Draw the molecules side by side for comparison
img = Draw.MolsToGridImage([molecule_i, molecule_j], 
                           legends=[f"Molecule {i}", f"Molecule {j}"])
img





# Get the total number of fingerprints
n_fps = len(fingerprints)  

# Use the `MaxMinPicker` object to select 9 diverse molecule indexes
# The `seed` argument ensures the selection process is reproducible
pick_indexes = picker.LazyPick(distFunc=distance_ij,
                               poolSize=n_fps, 
                               pickSize=9, 
                               seed=920)

# Retrieve the molecules corresponding to the selected indexes
picked_molecules = []
for index in pick_indexes:
    picked_molecule = molecules[index]
    AllChem.Compute2DCoords(picked_molecule)  # Generate 2D coordinates for better visualisation
    picked_molecules.append(picked_molecule)

# Display the selected diverse molecules
img = Draw.MolsToGridImage(picked_molecules, legends=[f"Pick number {i+1}" for i in range(len(picked_molecules))])
img





def distance_ij(i, j, fps=fingerprints):
    # Add code to define a new distance function

pick_indexes = picker.LazyPick(distFunc=distance_ij,
                               poolSize=n_fps,
                               pickSize=9,
                               seed=920)  # Change the `seed` value

picked_molecules = []
for index in pick_indexes:
    picked_molecule = molecules[index]
    AllChem.Compute2DCoords(picked_molecule)
    picked_molecules.append(picked_molecule)

img = Draw.MolsToGridImage(picked_molecules, 
                           legends=[f"Pick number {i+1}" for i in range(len(picked_molecules))])
img

# Add your solution code for task 3 here



