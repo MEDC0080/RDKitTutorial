{
 "cells": [
  {
   "cell_type": "markdown",
   "metadata": {
    "id": "SuppHncob4YX"
   },
   "source": [
    "# 01 – Introduction to Python\n",
    "\n",
    "Authored by: *Fredrik Svensson, Oliver Scott*  \n",
    "Edited by: *Florion Peni*\n",
    "\n",
    "You can use the links in the [Contents](#contents) section to navigate the notebook.\n",
    "\n",
    "This notebook provides a brief and general introduction to how programming with Python works. If you are already familiar with the basics, you may wish to skip ahead to [`02_rdkit_introduction.ipynb`](02_rdkit_introduction.ipynb).\n",
    "\n",
    "⚠️ **Please run the code cells in order**. Skipping cells may result in errors due to missing variables or imports.\n",
    "\n",
    "### Notes\n",
    "\n",
    "This notebook works in both:\n",
    "- **Local JupyterLab installations** (e.g. via Anaconda)\n",
    "- **Google Colab** (run in your browser with no prior setup required)\n",
    "\n",
    "File handling instructions (e.g. loading from disk) may differ depending on your environment.\n",
    "\n",
    "### Python\n",
    "\n",
    "**Python** is a popular general-purpose programming language. It is especially common in scientific computing due to its readability and rich ecosystem of libraries.\n",
    "\n",
    "### JupyterLab / Google Colab\n",
    "\n",
    "**JupyterLab** is an open-source interface for running and sharing notebooks with code and text.  \n",
    "**Google Colab** is a cloud-based version of Jupyter that runs in your browser and connects to free GPUs and TPUs.\n",
    "\n",
    "> *When working in Colab, any files saved in the runtime (e.g. downloaded datasets or generated outputs) are temporary and will be deleted when you close the tab or your session times out.*  \n",
    "You can view runtime files by clicking the folder icon in the left-hand toolbar. If you are working with important files, make sure to download them to your local machine or save them to Google Drive before ending your session.\n",
    "\n",
    "> If you make edits to this notebook and would like to save them you can save your own copy by clicking on **File > Save a copy in Drive** in the top menu. This ensures your work is preserved even after you close the runtime.\n",
    "\n",
    "### Extra resources\n",
    "\n",
    "This is a concise introduction. If you would like to learn more, see the following:\n",
    "\n",
    "* [RealPython](https://realpython.com/) - Free Python tutorials.\n",
    "* [CodeAcademy](https://www.codecademy.com/learn/learn-python-3) - Python lessons.\n",
    "* [Cheat-Sheets](https://ehmatthes.github.io/pcc_2e/cheat_sheets/cheat_sheets/) - Python reference sheets.\n",
    "\n",
    "## Contents\n",
    "\n",
    "* [Writing code](#writing-code)\n",
    "* [Comments](#comments)\n",
    "* [Variables and data types](#variables-and-data-types)\n",
    "* [Operators](#operators)\n",
    "* [Imports](#imports)\n",
    "* [Errors](#errors)\n",
    "* [Functions](#functions)\n",
    "* [Control flow](#control-flow)\n",
    "* [Reading files](#reading-files)\n",
    "* [Discussion](#discussion)\n",
    "\n",
    "---\n",
    "\n",
    "## Writing and running code\n",
    "\n",
    "You can write and run Python code inside **code cells**.\n",
    "\n",
    "Try running the cell below. First, select it by clicking on it. Then:\n",
    "- Click the run/play button located inside the cell (in Colab) or in the toolbar above (in JupyterLab), or\n",
    "- Use these keyboard shortcuts:\n",
    "  - Windows: `Ctrl` + `Enter`\n",
    "  - macOS: `⌘ Command` + `Enter`\n",
    "\n",
    "> When you first run code on this notebook in Google Colab, you may see a message like:  \n",
    "*“This notebook was not authored by Google. It may request access to your data…”*  \n",
    "This is expected for notebooks loaded from GitHub. Click the *“Run anyway”* button when prompted to start running the code.\n"
   ]
  },
  {
   "cell_type": "code",
   "execution_count": null,
   "metadata": {
    "id": "QRwjK1fNb4YY"
   },
   "outputs": [],
   "source": [
    "print(\"This is a code cell.\")"
   ]
  },
  {
   "cell_type": "markdown",
   "metadata": {
    "id": "nskidxilb4YZ"
   },
   "source": [
    "----\n",
    "\n",
    "## Comments\n",
    "\n",
    "To enhance readability of code, programmers use comments. These have no effect on the running of the programme, but are important to make your code understandable.\n",
    "\n",
    "```python\n",
    "# We use the hash symbol to define a comment\n",
    "```\n",
    "\n",
    "Comments will be used in the code blocks to help you understand what is going on."
   ]
  },
  {
   "cell_type": "code",
   "execution_count": null,
   "metadata": {
    "id": "ck2AQXHpb4YZ"
   },
   "outputs": [],
   "source": [
    "# This is a comment\n",
    "# Notice that this cell outputs nothing when run"
   ]
  },
  {
   "cell_type": "markdown",
   "metadata": {
    "id": "IIhyuiG0b4YZ"
   },
   "source": [
    "Comments make it clear what specific sections of code are doing."
   ]
  },
  {
   "cell_type": "code",
   "execution_count": null,
   "metadata": {
    "id": "zy2fMQnHb4YZ"
   },
   "outputs": [],
   "source": [
    "# The line below will print the sum of two numbers\n",
    "print(10 + 12)"
   ]
  },
  {
   "cell_type": "markdown",
   "metadata": {
    "id": "VHe62a_gb4YZ"
   },
   "source": [
    "----\n",
    "\n",
    "## Variables and data types\n",
    "\n",
    "Variables are one of the most important components of a programming language. Variables are used to store information. This gives a short hand notation to refer to potentially large amounts of information.\n",
    "\n",
    "We can assign data to variables using the `=` symbol.\n",
    "\n",
    "```python\n",
    "variable = data\n",
    "```\n",
    "\n",
    "Once we have assigned data to a variable we can then access that data using the variable name.\n",
    "\n",
    "When naming a variable it is best practice to give it a name which describes the data it holds. We use underscores `_` to make variable names easier to read. Blank spaces cannot be used.\n",
    "\n",
    "```python\n",
    "my_long_variable_name\n",
    "```\n",
    "\n",
    "Also note that Python contains keywords that **should not** be used as variable names. This is because they have explicit functions in Python. In Jupyter and Colab you will be able to tell a keyword when it is automatically highlighted. [Here](https://www.w3schools.com/python/python_ref_keywords.asp) is a list of reserved keywords.\n",
    "\n",
    "Note: *Python is a dynamically typed language and therefore the type of a variable does not need to be specified. If you are familiar with statically typed languages (e.g. C, C++, Java) this may seem a little unusual.*"
   ]
  },
  {
   "cell_type": "code",
   "execution_count": null,
   "metadata": {
    "id": "X8wyYaMQb4YZ"
   },
   "outputs": [],
   "source": [
    "# In this line we assign the text \"Hello, World!\" to the variable `my_string`\n",
    "my_string = \"Hello, World!\"\n",
    "\n",
    "# We can print the contents of the variable using the print function\n",
    "print(my_string)\n",
    "\n",
    "# We can also create aliases to the same data\n",
    "my_string_alias = my_string\n",
    "\n",
    "# Another way to assign the text to two different variables\n",
    "my_string = my_string_alias = \"Hello, World\""
   ]
  },
  {
   "cell_type": "markdown",
   "metadata": {
    "id": "P07XpnYGb4YZ"
   },
   "source": [
    "**Python** has several built-in data types/objects which are useful to a programmer.\n",
    "\n",
    "In this session we will look at:\n",
    "\n",
    "- strings\n",
    "- numerical types\n",
    "- Booleans\n",
    "- collections\n",
    "\n",
    "Note: *This is only an introduction. There is much more you can do with these data types. Check out these [Cheat-Sheets](https://ehmatthes.github.io/pcc_2e/cheat_sheets/cheat_sheets/), for easy-to-use reference.*\n",
    "\n",
    "### Strings\n",
    "\n",
    "Strings in Python hold text data (`str`).\n",
    "\n",
    "Strings can be enclosed with either single or double quotation marks (`' '` or `\" \"`). Multi-line strings can be defined using triple quotes (`\"\"\" \"\"\"`). The latter can be useful for making long comments or documenting code."
   ]
  },
  {
   "cell_type": "code",
   "execution_count": null,
   "metadata": {
    "id": "5qMyE08Xb4YZ"
   },
   "outputs": [],
   "source": [
    "# Double quote syntax\n",
    "string_one = \"This is a string.\"\n",
    "print(string_one)\n",
    "\n",
    "# Single quote syntax\n",
    "string_two = 'This is also a string.'\n",
    "print(string_two)\n",
    "\n",
    "# Triple quote syntax\n",
    "string_three = \"\"\"This is also another string but it\n",
    "can span multiple lines.\"\"\"\n",
    "print(string_three)"
   ]
  },
  {
   "cell_type": "markdown",
   "metadata": {
    "id": "EQ6ud9dEb4Ya"
   },
   "source": [
    "### Numerical or scalar types\n",
    "\n",
    "Python has three built-in numerical types.\n",
    "\n",
    "**Integer** `int`:\n",
    "\n",
    "- An integer is a whole number, positive or negative, without decimals, and of unlimited length.\n",
    "\n",
    "**Float** `float`:\n",
    "\n",
    "- A \"floating point number\" is a number, positive or negative, containing one or more decimals.\n",
    "\n",
    "**Complex** `complex`:\n",
    "\n",
    "- Complex numbers are written with a \"j\" as the imaginary part:"
   ]
  },
  {
   "cell_type": "code",
   "execution_count": null,
   "metadata": {
    "id": "ONmsLVJ_b4Ya"
   },
   "outputs": [],
   "source": [
    "x = 42    # Integer\n",
    "y = 42.0  # Float\n",
    "z = 1j    # Complex\n",
    "\n",
    "print(x)\n",
    "print(y)\n",
    "print(z)\n",
    "\n",
    "# To verify the type of variable we can use the `type()` function\n",
    "print(type(x))\n",
    "print(type(y))\n",
    "print(type(z))"
   ]
  },
  {
   "cell_type": "markdown",
   "metadata": {
    "id": "h4RwtXggb4Ya"
   },
   "source": [
    "Floats can also be formatted in scientific notation with an \"e\" to indicate the power of 10."
   ]
  },
  {
   "cell_type": "code",
   "execution_count": null,
   "metadata": {
    "id": "ARNXRKqWb4Ya"
   },
   "outputs": [],
   "source": [
    "big_float = 1e9\n",
    "small_float = -82.7e10  # Negative number\n",
    "\n",
    "print(big_float)\n",
    "print(small_float)"
   ]
  },
  {
   "cell_type": "markdown",
   "metadata": {
    "id": "-kJpNgnmb4Ya"
   },
   "source": [
    "### Type conversion\n",
    "\n",
    "You can convert from one type to another using the namesake functions:\n",
    "\n",
    "```python\n",
    "int()\n",
    "float()\n",
    "complex()\n",
    "```\n",
    "\n",
    "This conversion is called *casting*.\n",
    "\n",
    "Note: *Casting is useful for more than just numerical types. We will see examples of this later.*"
   ]
  },
  {
   "cell_type": "code",
   "execution_count": null,
   "metadata": {
    "id": "tj2LE0Hkb4Ya"
   },
   "outputs": [],
   "source": [
    "x = 1    # Integer\n",
    "y = 2.8  # Float\n",
    "\n",
    "# Convert from integer to float\n",
    "a = float(x)\n",
    "\n",
    "# Convert from float to integer\n",
    "b = int(y)\n",
    "\n",
    "print(x, \"->\", a)\n",
    "print(y, \"->\", b)\n",
    "\n",
    "# We can verify that the type has changed\n",
    "print(type(a))\n",
    "print(type(b))"
   ]
  },
  {
   "cell_type": "markdown",
   "metadata": {
    "id": "SEspZ0qab4Ya"
   },
   "source": [
    "Complex numbers cannot be converted into other numerical types, although `float` and `int` can be converted to `complex`.\n",
    "\n",
    "### Booleans\n",
    "\n",
    "Booleans `bool` represent either of two values: `True` or `False`.\n",
    "\n",
    "In programming you often need to know if an expression is `True` or `False`. When you compare two values, the expression is evaluated and Python returns the Boolean answer.\n",
    "\n",
    "Note: *We will learn more about comparisons in the [\"Operators\"](#Operators) section. Booleans are also essential for [control flow](#Control-flow)*."
   ]
  },
  {
   "cell_type": "code",
   "execution_count": null,
   "metadata": {
    "id": "NlYQIwLab4Ya"
   },
   "outputs": [],
   "source": [
    "print(10 > 9)   # Greater than `>`\n",
    "print(10 == 9)  # Equal to `==`\n",
    "print(10 < 9)   # Less than `<`\n",
    "\n",
    "# We can also assign Booleans to variables\n",
    "true = True\n",
    "false = False\n",
    "\n",
    "# Verify that the type is indeed Boolean\n",
    "print(type(true))\n",
    "print(type(false))"
   ]
  },
  {
   "cell_type": "markdown",
   "metadata": {
    "id": "DTgAEM12b4Ya"
   },
   "source": [
    "We can also convert Booleans into and from multiple types.\n",
    "\n",
    "**Try to guess the output of the cell below before running it.**\n",
    "\n",
    "Hint: *Think binary!*"
   ]
  },
  {
   "cell_type": "code",
   "execution_count": null,
   "metadata": {
    "id": "upFwWcFnb4Ya"
   },
   "outputs": [],
   "source": [
    "true_int = int(True)    # Convert the Boolean `True` to an integer\n",
    "false_int = int(False)  # Convert the Boolean `False` to an integer\n",
    "\n",
    "# What will these lines print?\n",
    "print(true_int)\n",
    "print(false_int)"
   ]
  },
  {
   "cell_type": "markdown",
   "metadata": {
    "id": "rjYHyzaHb4Ya"
   },
   "source": [
    "### Collections\n",
    "\n",
    "There are four core collection data types in Python:\n",
    "\n",
    "- **Lists**; `list` is a collection which is **ordered** and **changeable**. Allows duplicate members.\n",
    "- **Tuples**; `tuple` is a collection which is **ordered** and **unchangeable**. Allows duplicate members.\n",
    "- **Sets**; `set` is a collection which is **unordered** and **unindexed**. No duplicate members.\n",
    "- **Dictionaries**; `dict` is a collection which is **unordered**, **changeable** and **indexed**. No duplicate members.\n",
    "\n",
    "When choosing a collection type, it is useful to understand the properties of that type.\n",
    "\n",
    "Note: *Sometimes you will see the terms changeable and unchangeable written as mutable and immutable, respectively.*\n",
    "\n",
    "#### Lists\n",
    "A `list` is **ordered** and **changeable**.\n",
    "\n",
    "In Python, lists are written with square brackets:\n",
    "\n",
    "```python\n",
    "my_list = ['hello', 'John', 22]\n",
    "```\n",
    "\n",
    "A list can contain any type of Python object."
   ]
  },
  {
   "cell_type": "code",
   "execution_count": null,
   "metadata": {
    "id": "ZA974oTrb4Ya"
   },
   "outputs": [],
   "source": [
    "# Define and print a list containg colours\n",
    "colour_list = ['red', 'green', 'blue', 'yellow', 'white', 'black']\n",
    "print(colour_list)"
   ]
  },
  {
   "cell_type": "markdown",
   "metadata": {
    "id": "YkpIZ8aub4Ya"
   },
   "source": [
    "We can use **indexes** to access items in a `list`.\n",
    "\n",
    "In Python indexes start at **0** referring to the **1st** item in the list.\n",
    "\n",
    "We can also use **negative indexes** to access items from the end of the list, i.e. -1 refers to the last item in the list and -2 refers to the item before the last item in the list.\n",
    "\n",
    "![PythonIndexing](https://railsware.com/blog/wp-content/uploads/2018/10/positive-indexes.png)\n",
    "\n",
    "[Image source](https://railsware.com/blog/python-for-machine-learning-indexing-and-slicing-for-lists-tuples-strings-and-other-sequential-types/)\n",
    "\n",
    "To use indexes we utilise a square bracket syntax:\n",
    "\n",
    "```python\n",
    "my_list[0]\n",
    "```\n",
    "\n",
    "The above example will access the first item in the list.\n",
    "\n",
    "**Try to guess the output of the cell below before running it!**"
   ]
  },
  {
   "cell_type": "code",
   "execution_count": null,
   "metadata": {
    "id": "vz5_5J3Fb4Ya"
   },
   "outputs": [],
   "source": [
    "print(colour_list[0])\n",
    "print(colour_list[1])\n",
    "print(colour_list[3])\n",
    "print(colour_list[-1])\n",
    "print(colour_list[-3])\n",
    "\n",
    "# We can also change a value using indexing (the index must already exist)\n",
    "colour_list[4] = 'purple'\n",
    "\n",
    "# Verify the change\n",
    "print(colour_list)\n",
    "\n",
    "# What do you think this will output?\n",
    "print(colour_list[0:3])"
   ]
  },
  {
   "cell_type": "markdown",
   "metadata": {
    "id": "vP_yiLEHb4Ya"
   },
   "source": [
    "The [n:m] syntax generates a slice of the data, where n and m are numerical indexes forming a ranged query.\n",
    "\n",
    "There are numerous ways to add and remove items from a list. For now we will only mention one of these: the `.append()` method.\n",
    "\n",
    "```python\n",
    "my_list.append('item to append')\n",
    "```\n",
    "\n",
    "This method adds an item to the end of a list. To see other methods check out the [Cheat-Sheet](https://github.com/ehmatthes/pcc_2e/releases/download/v1.0.1/beginners_python_cheat_sheet_pcc_lists.pdf) later."
   ]
  },
  {
   "cell_type": "code",
   "execution_count": null,
   "metadata": {
    "id": "eKNU8XLub4Ya"
   },
   "outputs": [],
   "source": [
    "# Add an item to the list\n",
    "colour_list.append('pink')\n",
    "\n",
    "# Verify that 'pink' was added to the end of the list\n",
    "print(colour_list)"
   ]
  },
  {
   "cell_type": "markdown",
   "metadata": {
    "id": "HlktYjQpb4Ya"
   },
   "source": [
    "#### Tuples\n",
    "\n",
    "A `tuple` is **ordered** and **unchangeable**.\n",
    "\n",
    "In Python, tuples are written with round brackets.\n",
    "\n",
    "```python\n",
    "my_tuple = ('John', 'Doe', 22)\n",
    "```\n",
    "\n",
    "- Like lists, tuples can contain strings and any other type of Python object.\n",
    "- Like lists, we can also use indexing to access items in the tuple.\n",
    "- Unlike lists, we cannot change, add, or remove items in a tuple.\n",
    "\n",
    "#### Exercise 1: Working with tuples\n",
    "\n",
    "Given the tuple `xyz` below, complete the following tasks:\n",
    "\n",
    "1. Extract and print the value of `x`.\n",
    "2. Extract and print the value of `y`.\n",
    "3. Extract and print the value of `z`.\n",
    "4. Print the values of both `x` and `y` at the same time.\n",
    "\n",
    "Hint: *Use indexing to access the elements of the tuple.*"
   ]
  },
  {
   "cell_type": "code",
   "execution_count": null,
   "metadata": {
    "id": "nN51S2-ib4Ya"
   },
   "outputs": [],
   "source": [
    "xyz = (3.01, 1.23, -1.22)  # Define a tuple holding three-dimensional coordinates\n",
    "\n",
    "# Add your solution code here"
   ]
  },
  {
   "cell_type": "markdown",
   "metadata": {
    "id": "E4RJNpmGb4Ya"
   },
   "source": [
    "Remember that tuples are **unchangeable** so trying to change items will give us an error message.\n",
    "\n",
    "Error messages in Python are designed to be understandable and relatively easy to read.\n",
    "\n",
    "Uncomment and run the code in the cell below."
   ]
  },
  {
   "cell_type": "code",
   "execution_count": null,
   "metadata": {
    "id": "po8myjExb4Ya",
    "tags": [
     "raises-exception"
    ]
   },
   "outputs": [],
   "source": [
    "# xyz[1] = 2.90"
   ]
  },
  {
   "cell_type": "markdown",
   "metadata": {
    "id": "RWXEMv8Ub4Ya"
   },
   "source": [
    "To create a tuple with only one item, you have to add a comma after the item, otherwise Python will not recognise it as such."
   ]
  },
  {
   "cell_type": "code",
   "execution_count": null,
   "metadata": {
    "id": "cQEqZFfYb4Ya"
   },
   "outputs": [],
   "source": [
    "my_tuple = (1,)     # This will assign a tuple\n",
    "my_not_tuple = (1)  # This will NOT assign a tuple\n",
    "\n",
    "print(type(my_tuple))\n",
    "print(type(my_not_tuple))"
   ]
  },
  {
   "cell_type": "markdown",
   "metadata": {
    "id": "n_u3b4vab4Ya"
   },
   "source": [
    "#### Sets\n",
    "\n",
    "A `set` is **unordered** and **unindexed**. They do not contain duplicate items and are defined with curly brackets.\n",
    "\n",
    "```python\n",
    "my_set = {'John', 'Doe', 22}\n",
    "```\n",
    "\n",
    "- Sets can contain strings and any **hashable** Python object.\n",
    "- Like lists, items can be added and removed from a set.\n",
    "- Unlike lists and tuples, sets cannot be indexed as they have no order.\n",
    "- Unlike lists and tuples, sets do not hold duplicate items.\n",
    "\n",
    "*For a Python object to be* **hashable**, *it must be ordered and unchangeable. Therefore, we can add a tuple to a set but not a list.*   \n",
    "Numerical data types and strings are also **unchangeable** so we can add these to sets as well."
   ]
  },
  {
   "cell_type": "code",
   "execution_count": null,
   "metadata": {
    "id": "Tx_oQI9cb4Yb"
   },
   "outputs": [],
   "source": [
    "# Define a set holding the names of fruits\n",
    "fruit_set = {'cherry', 'banana', 'apple'}\n",
    "print(fruit_set)\n",
    "\n",
    "# We can add items to the set using the `.add()` method\n",
    "fruit_set.add('mango')\n",
    "print(fruit_set)\n",
    "\n",
    "# Duplicates are not allowed in sets\n",
    "fruit_set.add('apple')\n",
    "print(fruit_set)\n",
    "\n",
    "# We can remove items using the `.remove()` method\n",
    "fruit_set.remove('cherry')\n",
    "print(fruit_set)"
   ]
  },
  {
   "cell_type": "markdown",
   "metadata": {
    "id": "l38LhYjUb4Yb"
   },
   "source": [
    "The `.intersection()` and `.union()` methods are also  useful.\n",
    "\n",
    "- The intersection of two sets is a new set that contains all of the elements that are in both sets.\n",
    "- The union of two sets is a new set that contains all of the elements that are in at least one of the two sets.\n",
    "\n",
    "Try to work out the output before you run the cell below."
   ]
  },
  {
   "cell_type": "code",
   "execution_count": null,
   "metadata": {
    "id": "LiWET0e2b4Yb"
   },
   "outputs": [],
   "source": [
    "a = {1, 2, 3}  # Define a set of numbers\n",
    "b = {3, 4, 5}  # Define another set of numbers\n",
    "\n",
    "# Compute the intersection\n",
    "intersection = a.intersection(b)\n",
    "print(intersection)\n",
    "\n",
    "# Compute the union\n",
    "union = a.union(b)\n",
    "print(union)"
   ]
  },
  {
   "cell_type": "markdown",
   "metadata": {
    "id": "9UGQeYftb4Yb"
   },
   "source": [
    "### Dictionary\n",
    "\n",
    "A `dict` is **unordered**, **changeable** and **indexed**.\n",
    "\n",
    "In Python, dictionaries are defined with curly brackets. They have **keys** and **values**.\n",
    "\n",
    "```python\n",
    "my_dict = {'my_key_1': 1, 'my_key_2': 2}\n",
    "```\n",
    "\n",
    "- Like lists and tuples, dictionaries can contain strings and any Python object. Keys, however, must be **hashable**.\n",
    "- Like lists and sets, items can be added and removed from a dictionary.\n",
    "- Like lists and tuples, dictionaries can be **indexed** although the syntax is slightly different.\n",
    "- Dictionaries cannot contain duplicate keys but can contain duplicate values."
   ]
  },
  {
   "cell_type": "code",
   "execution_count": null,
   "metadata": {
    "id": "0j-PXyW0b4Yb"
   },
   "outputs": [],
   "source": [
    "# Define a dictionary describing a user\n",
    "user_dict = {\n",
    "    'name': 'John',\n",
    "    'last_name': 'Doe',\n",
    "    'age': 22\n",
    "}\n",
    "print(user_dict)\n",
    "\n",
    "# We can index the dictionary using keys\n",
    "age_value = user_dict['age']  # Get the age of the user\n",
    "print(age_value)\n",
    "\n",
    "# We can add items using a similar syntax\n",
    "user_dict['bought'] = ['apple', 'mango']\n",
    "print(user_dict)\n",
    "\n",
    "# We can also change values easily\n",
    "user_dict['age'] = 23\n",
    "print(user_dict)"
   ]
  },
  {
   "cell_type": "markdown",
   "metadata": {
    "id": "Z7mGqHd5b4Yb"
   },
   "source": [
    "Dictionaries are a very versatile data type. To learn more about the utilities of dictionaries download the dictionary [Cheat-Sheet](https://github.com/ehmatthes/pcc_2e/releases/download/v1.0.1/beginners_python_cheat_sheet_pcc_dictionaries.pdf).\n",
    "\n",
    "----\n",
    "\n",
    "## Operators\n",
    "\n",
    "Operators are used to perform operations on variables and values.\n",
    "\n",
    "Python provides multiple types of operators which can be used with multiple data types. Here, we will look at:\n",
    "\n",
    "- arithmetic operators,\n",
    "- assignment operators,\n",
    "- and comparison operators.\n",
    "\n",
    "### Arithmetic operators\n",
    "\n",
    "They are used with numeric values to perform common mathematical operations. Most of these are relatively intuitive.\n",
    "\n",
    "| Operator | Name           | Example |\n",
    "|:---------|:---------------|:--------|\n",
    "| `+`      | Addition       | x + y   |\n",
    "| `-`      | Subtraction    | x - y   |\n",
    "| `*`      | Multiplication | x * y   |\n",
    "| `/`      | Division       | x / y   |\n",
    "| `%`      | Modulus        | x % y   |\n",
    "| `**`     | Exponentiation | x ** y  |\n",
    "| `//`     | Floor division | x // y  |"
   ]
  },
  {
   "cell_type": "code",
   "execution_count": null,
   "metadata": {
    "id": "H8CvOmhdb4Yd"
   },
   "outputs": [],
   "source": [
    "x = 10  # Define an integer 10\n",
    "y = 2   # Define an integer 2\n",
    "\n",
    "print(x + y)   # Addition\n",
    "print(x - y)   # Subtraction\n",
    "print(x * y)   # Multiplication\n",
    "print(x / y)   # Division\n",
    "print(x % y)   # Modulus (remainder)\n",
    "print(x ** y)  # Exponentiation\n",
    "\n",
    "y = 3          # Redefine y so we can see the effect of floor division\n",
    "print(x / y)   # Division\n",
    "print(x // y)  # Floor division"
   ]
  },
  {
   "cell_type": "markdown",
   "metadata": {
    "id": "TpH7a2Tub4Yd"
   },
   "source": [
    "Note: *Some arithmetic operators can also be used with other data types like strings. Maybe you could try and see what happens if you add two strings or multiply a string by an integer.*\n",
    "\n",
    "### Assignment operators\n",
    "\n",
    "Assignment operators are used to assign values to variables.\n",
    "\n",
    "We already know the `=` assignment operator, though there are multiple others.\n",
    "\n",
    "| Operator  | Example        | Equivalent |\n",
    "|:----------|:---------------|:-----------|\n",
    "| `=`       | x = 3          | x = 3      |\n",
    "| `+=`      | x += 3         | x = x + 3  |\n",
    "| `-=`      | x -= 3         | x = x - 3  |\n",
    "| `*=`      | x \\*= 3        | x = x * 3  |\n",
    "| `/=`      | x /= 3         | x = x / 3  |\n",
    "| `%=`      | x %= 3         | x = x / 3  |\n",
    "| `**=`     | x \\*\\*= 3      | x = x ** 3 |\n",
    "| `//=`     | x // 3         | x = x // 3 |\n",
    "\n",
    "Notice that numeric types are **unchangeable** so if we want to change the number assigned to a variable we need to reassign it like this:\n",
    "\n",
    "```python\n",
    "x = 3      # We have assigned 3 to x\n",
    "x + 3      # Here x has not changed\n",
    "x = x + 3  # Here we have reassigned x to x + 3 (or 6)\n",
    "```\n",
    "\n",
    "Using assignment operators is a simpler way of rewriting the same experession:\n",
    "\n",
    "```python\n",
    "x += 3  # Here we have reassigned x to x + 3 (or 6)\n",
    "```\n",
    "\n",
    "Try some other assignment operators to get used to the syntax."
   ]
  },
  {
   "cell_type": "code",
   "execution_count": null,
   "metadata": {
    "id": "Xdn8rSmab4Yd"
   },
   "outputs": [],
   "source": [
    "x = 5  # Assign 5 to x\n",
    "x * 2  # No change to x\n",
    "\n",
    "# Let's verify that nothing has changed\n",
    "print(x)\n",
    "\n",
    "# Now we will try an assignment operator\n",
    "x *= 2\n",
    "print(x)  # Notice that x is now 10\n",
    "\n",
    "# We use the other syntax when we want to store the answer in a different variable\n",
    "y = x / 2\n",
    "print(y)"
   ]
  },
  {
   "cell_type": "markdown",
   "metadata": {
    "id": "zsM9F5Kpb4Ye"
   },
   "source": [
    "### Comparison operators\n",
    "\n",
    "Comparison operators are used to **compare** values. They return the **Booleans** `True` or `False`. These operators are useful for controlling the flow of a programme. We will learn more about this in the [Control flow](#Control-flow) section.\n",
    "\n",
    "| Operator | Name                       | Example |\n",
    "|:---------|:---------------------------|:--------|\n",
    "| `==`     | Equal                      | x == y  |\n",
    "| `!=`     | Not equal                  | x != y  |\n",
    "| `>`      | Greater than               | x > y   |\n",
    "| `<`      | Less than                  | x < y   |\n",
    "| `>=`     | Greater than or equal to   | x >= y  |\n",
    "| `<=`     | Less than or equal to      | x <= y  |\n",
    "\n",
    "Notice how the equal operator is `==` rather than `=`. Why do you think this is the case?\n",
    "\n",
    "Hint: *Remember the assignment operators.*\n",
    "\n",
    "**Before running the cell below try to work out what the output will be.**"
   ]
  },
  {
   "cell_type": "code",
   "execution_count": null,
   "metadata": {
    "id": "QoCkoKdBb4Ye"
   },
   "outputs": [],
   "source": [
    "x = 15\n",
    "y = 5.5\n",
    "\n",
    "print(x == y)\n",
    "print(x != y)\n",
    "print(x > y)\n",
    "print(x < y)\n",
    "print(x >= y)\n",
    "print(x <= y)"
   ]
  },
  {
   "cell_type": "markdown",
   "metadata": {
    "id": "42_Tl8bbb4Ye"
   },
   "source": [
    "Note: *Comparison operators are not limited to numerical types. Try comparing some strings.*\n",
    "\n",
    "----\n",
    "\n",
    "## Imports\n",
    "\n",
    "In Python, we can use the `import` keyword to include and utilise external code. Python comes with many pre-installed modules and packages, and additional third-party or custom packages can be installed via `!pip` or created as needed.\n",
    "\n",
    ">The Anaconda distribution of Python includes many packages relevant to data science, machine learning, and scientific computing. Additional packages can be installed via `!conda`, which efficiently manages dependencies and environments.\n",
    "\n",
    "A **library** is a collection of modules and/or packages bundled together to provide specific functionality. They may include multiple packages and modules or even other dependencies.\n",
    "* A **package** is a collection of Python modules.\n",
    "    * A **module** is a single Python file. It may contain multiple functions and classes.\n",
    "\n",
    "For example, Python comes with a module called `time`. We can use it to print the current time."
   ]
  },
  {
   "cell_type": "code",
   "execution_count": null,
   "metadata": {
    "id": "VDAbHQSdb4Ye"
   },
   "outputs": [],
   "source": [
    "import time  # Import the module\n",
    "\n",
    "current_time = time.ctime()                  # Get the current time\n",
    "print('The current time is:', current_time)  # Print the current time"
   ]
  },
  {
   "cell_type": "markdown",
   "metadata": {
    "id": "_XxIiKcQb4Ye"
   },
   "source": [
    "Sometimes we may only need a specific **module** or **function** from a **package** or **module**.\n",
    "\n",
    "To achieve this, we can use the `from <MODULE/PACKAGE> import <FUNCTION/MODULE>` syntax.\n",
    "\n",
    "Once code is imported, there is no need to repeat the `import` command. The imported module, function or package remains available to all cells executed afterward. Re-importing is unnecessary and will not have any effect beyond the initial import.\n",
    "\n",
    "Note: *The outputs of cells that use the above and below importing methods will be identical, aside from the exact time of execution.*"
   ]
  },
  {
   "cell_type": "code",
   "execution_count": null,
   "metadata": {
    "id": "AZRG8I2Ib4Ye"
   },
   "outputs": [],
   "source": [
    "# Import the `ctime` function from the `time` module\n",
    "from time import ctime\n",
    "\n",
    "current_time = ctime()\n",
    "print('The current time is:', current_time)"
   ]
  },
  {
   "cell_type": "markdown",
   "metadata": {
    "id": "icRoDpX3b4Ye"
   },
   "source": [
    "In Jupyter, you can press `Shift` + `Tab` while your cursor is inside a function's parentheses to view its documentation.\n",
    "\n",
    "In Colab, you can highlight the function or place your cursor on it and hover to see the docstring or use the tooltip popup.\n",
    "\n",
    "Try it after running the cell below:"
   ]
  },
  {
   "cell_type": "code",
   "execution_count": null,
   "metadata": {
    "id": "92jQsSNJb4Ye"
   },
   "outputs": [],
   "source": [
    "import math\n",
    "\n",
    "math.exp(10)  # Use the shortcut when this line is selected"
   ]
  },
  {
   "cell_type": "markdown",
   "metadata": {
    "id": "Kfm2FNk8b4Ye"
   },
   "source": [
    "----\n",
    "\n",
    "## Errors\n",
    "\n",
    "The Python error messages are pretty intuitive, so you can work out where you went wrong. Execute the cells below; they contain examples of code that will raise errors."
   ]
  },
  {
   "cell_type": "code",
   "execution_count": null,
   "metadata": {
    "id": "z2ptFfYmb4Ye",
    "tags": [
     "raises-exception"
    ]
   },
   "outputs": [],
   "source": [
    "10 / 0"
   ]
  },
  {
   "cell_type": "code",
   "execution_count": null,
   "metadata": {
    "id": "Kzo9IX0kb4Ye",
    "tags": [
     "raises-exception"
    ]
   },
   "outputs": [],
   "source": [
    "int('hello')  # Will raise a ValueError as we cannot convert a string to an integer"
   ]
  },
  {
   "cell_type": "markdown",
   "metadata": {
    "id": "ZjrKhIACb4Ye"
   },
   "source": [
    "Note: *However, we can convert a string with no alpha characters into an integer.*"
   ]
  },
  {
   "cell_type": "code",
   "execution_count": null,
   "metadata": {
    "id": "TqeE0bAnb4Ye"
   },
   "outputs": [],
   "source": [
    "number = '10'\n",
    "print(type(number))\n",
    "\n",
    "number = int(number)  # Reassign `number` to the integer version of its value\n",
    "print(type(number))"
   ]
  },
  {
   "cell_type": "markdown",
   "metadata": {
    "id": "LMktaF3Hb4Ye"
   },
   "source": [
    "Python has many types of errors to help the programmer debug their code. If you are interested, you can click [here](https://www.tutorialspoint.com/python/python_exceptions.htm) to see a list of all the different error types.\n",
    "\n",
    "----\n",
    "\n",
    "## Functions\n",
    "\n",
    "In Python, we can create blocks of reusable code that can be called when needed. Programmers often use functions to prevent rewriting multiple lines of code or to break up complex processes, making the code much easier to read and debug.\n",
    "\n",
    "We can define functions using the keyword `def`. After a colon `:` we require an indent. They are usually a `Tab` or four `Space`s.\n",
    "\n",
    "```python\n",
    "def my_function():\n",
    "    # Do something here\n",
    "    return\n",
    "```\n",
    "\n",
    "To call a function, use the function name followed by parentheses.\n",
    "\n",
    "```python\n",
    "my_function()\n",
    "```\n",
    "\n",
    "- Code within a function executes only when it is called.\n",
    "- Variables defined within a function cannot be accessed outside of the function body unless explicitly returned.\n",
    "- In Jupyter, after a function has been defined it can be used by any cell below.\n",
    "\n",
    "The cell block below demonstrates the syntax for defining and calling a function."
   ]
  },
  {
   "cell_type": "code",
   "execution_count": null,
   "metadata": {
    "id": "jBulYX8eb4Ye"
   },
   "outputs": [],
   "source": [
    "def tell_the_time():\n",
    "    \"\"\"\n",
    "    This function returns the current time.\n",
    "\n",
    "    Indentation is crucial in Python to define the scope of the code.\n",
    "    Ensure you use consistent spacing to avoid errors.\n",
    "\n",
    "    The `return` keyword specifies the value that the function outputs\n",
    "    when it is called.\n",
    "    \"\"\"\n",
    "    import time  # Importing the time module within the function scope\n",
    "    the_time = time.ctime()\n",
    "    return the_time\n",
    "\n",
    "# Call the function and save its output to the variable `current_time`\n",
    "current_time = tell_the_time()\n",
    "\n",
    "# Print the result\n",
    "print(\"The current time is:\", current_time)"
   ]
  },
  {
   "cell_type": "markdown",
   "metadata": {
    "id": "_sVNb4Bpb4Ye"
   },
   "source": [
    "Functions can also also take **arguments**/**parameters**. These are specified inside the parentheses. You can add as many as you want, just separate them with a comma.\n",
    "\n",
    "#### Exercise 2: Personalised greeting\n",
    "\n",
    "Complete the following tasks:\n",
    "\n",
    "1. Try to change the code in the cell so that it prints your name instead.\n",
    "2. Try to change the code to print a different greeting."
   ]
  },
  {
   "cell_type": "code",
   "execution_count": null,
   "metadata": {
    "id": "3hlQcwTqb4Ye"
   },
   "outputs": [],
   "source": [
    "def greet(name):\n",
    "    \"\"\"\n",
    "    This function generates a personalised greeting message.\n",
    "\n",
    "    Parameters:\n",
    "    -----------\n",
    "    name : str\n",
    "\n",
    "    The name to include in the greeting message.\n",
    "\n",
    "    Example:\n",
    "    --------\n",
    "    To call the function and create a greeting:\n",
    "    `greet('Emily')`\n",
    "\n",
    "    Inside the function, the argument `name` is used to dynamically\n",
    "    generate the greeting. This makes the function reusable with\n",
    "    different inputs.\n",
    "\n",
    "    Note:\n",
    "    -----\n",
    "    The `format` method is used to replace `{}` in the string with the\n",
    "    value of the `name` argument.\n",
    "    \"\"\"\n",
    "    greeting = 'Hello, {}!'.format(name)\n",
    "    return greeting\n",
    "\n",
    "# Example usage of the function\n",
    "our_name = 'John Doe'\n",
    "message = greet(our_name)  # Call the function and save the output\n",
    "\n",
    "# Print the personalised greeting\n",
    "print(message)"
   ]
  },
  {
   "cell_type": "markdown",
   "metadata": {
    "id": "5LZA3_zPb4Ye"
   },
   "source": [
    "Learn more about functions by downloading this [Cheat-Sheet](https://github.com/ehmatthes/pcc_2e/releases/download/v1.0.1/beginners_python_cheat_sheet_pcc_functions.pdf).\n",
    "\n",
    "----\n",
    "\n",
    "## Control flow\n",
    "\n",
    "Python also offers a number of ways to control how and what code is executed.\n",
    "\n",
    "**Conditionals:**\n",
    "\n",
    "```python\n",
    "if ... else\n",
    "```\n",
    "\n",
    "**Loops:**\n",
    "\n",
    "```python\n",
    "for ... while\n",
    "```\n",
    "\n",
    "### Conditionals\n",
    "\n",
    "We can combine comparison operators with `if` statements to control how code is executed:\n",
    "\n",
    "```python\n",
    "if CONDITION:\n",
    "    # do something\n",
    "```\n",
    "    \n",
    "We can chain multiple comparisons together using `elif` and `else`, giving us even more control over the execution of code:\n",
    "\n",
    "```python\n",
    "if CONDITION:\n",
    "    # do something\n",
    "elif CONDITION:\n",
    "    # do something\n",
    "else:\n",
    "    # do something\n",
    "```\n",
    "    \n",
    "`elif` is shorthand for 'else if'. When using `elif`, if an above comparison evaluates to `True` then any below conditions prefixed by `elif` will not be evaluated. If they were prefixed by `if` they will also be evaluated.\n",
    "\n",
    "Try adjusting the code below to change the output.\n"
   ]
  },
  {
   "cell_type": "code",
   "execution_count": null,
   "metadata": {
    "id": "Q6dnRNbgb4Ye"
   },
   "outputs": [],
   "source": [
    "x = 100\n",
    "y = 2\n",
    "\n",
    "if x > y:\n",
    "    print('x is greater than y')"
   ]
  },
  {
   "cell_type": "markdown",
   "metadata": {
    "id": "FHx2ROVjb4Ye"
   },
   "source": [
    "Again, try adjusting the code below to change the output."
   ]
  },
  {
   "cell_type": "code",
   "execution_count": null,
   "metadata": {
    "id": "3zRf_Wjyb4Ye"
   },
   "outputs": [],
   "source": [
    "x = 100\n",
    "y = 200\n",
    "\n",
    "if x == y:\n",
    "    print('x is equal to y')\n",
    "else:\n",
    "    print('x is not equal to y')"
   ]
  },
  {
   "cell_type": "markdown",
   "metadata": {
    "id": "XwK5RGQWb4Ye"
   },
   "source": [
    "Try changing the numbers to change the output."
   ]
  },
  {
   "cell_type": "code",
   "execution_count": null,
   "metadata": {
    "id": "GyGm2NRpb4Ye"
   },
   "outputs": [],
   "source": [
    "x = 200\n",
    "y = 33\n",
    "\n",
    "if x < y:\n",
    "    print(\"x is less than y\")\n",
    "elif x == y:\n",
    "    print(\"x and y are equal\")\n",
    "else:\n",
    "    print(\"x is greater than y\")"
   ]
  },
  {
   "cell_type": "markdown",
   "metadata": {
    "id": "_kURsVOsb4Ye"
   },
   "source": [
    "### Loops\n",
    "\n",
    "Python provides two primary types of loops: `for` loops and `while` loops.\n",
    "\n",
    "A `for` loop is used to iterate over a sequence, such as a list, tuple, dictionary, set, or string... essentially any iterable object.\n",
    "\n",
    "Using a `for` loop, you can execute a block of code once for each item in the sequence, making it a powerful tool for repetitive tasks.\n",
    "\n",
    "```python\n",
    "sequence = [1, 2, 3, 4]\n",
    "for x in sequence:\n",
    "    # do something\n",
    "```"
   ]
  },
  {
   "cell_type": "code",
   "execution_count": null,
   "metadata": {
    "id": "XIfaajtDb4Ye"
   },
   "outputs": [],
   "source": [
    "shopping_list = ['apples', 'cereal', 'beer', 'milk']  # Define a sequence of items\n",
    "\n",
    "\"\"\"\n",
    "As we iterate through the list, each item is evaluated individually.\n",
    "After the evaluation of an item is complete we move to the next item\n",
    "automatically.\n",
    "\n",
    "In this case, the loop will assign each item in the list to the variable\n",
    "`item`, so that we can use it in our code.\n",
    "\n",
    "Here, we use a conditional to control how we process each item.\n",
    "\"\"\"\n",
    "\n",
    "for item in shopping_list:\n",
    "    if item == 'beer' or item == 'milk':\n",
    "        print('We need to buy:', item, '(Drink)')\n",
    "    else:\n",
    "        print('We need to buy:', item, '(Food)')"
   ]
  },
  {
   "cell_type": "markdown",
   "metadata": {
    "id": "avFi18XFb4Ye"
   },
   "source": [
    "With a `while` loop we can execute a set of statements as long the corresponding stated condition evaluates to `True`."
   ]
  },
  {
   "cell_type": "code",
   "execution_count": null,
   "metadata": {
    "id": "GEs8XXPab4Ye"
   },
   "outputs": [],
   "source": [
    "i = 1  # We will start at 1\n",
    "\n",
    "\"\"\"\n",
    "Here we evaluate code until a condition is met.\n",
    "In this case we are waiting until i > 6.\n",
    "\n",
    "Remember we need to increment i. We use the assignment\n",
    "operator here. If we forget to increment i, the loop\n",
    "will run forever!\n",
    "\n",
    "If this were to happen you could interrupt the kernel\n",
    "by using ⌘/Ctrl+M+I (Colab) or pressing I twice (Jupyter)\n",
    "to stop code execution.\n",
    "\"\"\"\n",
    "\n",
    "while i <= 6:\n",
    "    print(i)\n",
    "    i += 1"
   ]
  },
  {
   "cell_type": "markdown",
   "metadata": {
    "id": "94qLdxKLb4Ye"
   },
   "source": [
    "Check out the `while` loop [Cheat-Sheet](https://github.com/ehmatthes/pcc_2e/releases/download/v1.0.1/beginners_python_cheat_sheet_pcc_if_while.pdf).\n",
    "\n",
    "----\n",
    "\n",
    "## Reading files\n",
    "\n",
    "In many Python workflows, especially in data science and cheminformatics, you will often need to load data from external files for further analysis or processing.\n",
    "\n",
    "A clean and safe way to open files in Python is by using a `with` block:\n",
    "\n",
    "```python\n",
    "with open('path_to_file') as f:\n",
    "    # do something with the file\n",
    "```\n",
    "\n",
    "* `with` ensures the file is properly closed after reading, even if an error occurs.\n",
    "* `'path_to_file'` is the location of the file on your system.\n",
    "* `as f` assigns the file object to the variable `f`, which you can then use to access its content.\n",
    "\n",
    "Within the tutorial folder, we have included a subdirectory named `data` that contains a sample text file: `lorem_ipsum.txt`. Its relative path is:\n",
    "\n",
    "```\n",
    "data/lorem_ipsum.txt\n",
    "```\n",
    "\n",
    "However, file handling differs slightly between **JupyterLab** (running locally) and **Google Colab** (running in the cloud). To make this notebook work in both environments, the code below:\n",
    "\n",
    "* Automatically detects whether the notebook is running in Colab\n",
    "* Downloads the file from GitHub if necessary (in Colab)\n",
    "* Then reads and prints the file contents\n"
   ]
  },
  {
   "cell_type": "code",
   "execution_count": null,
   "metadata": {
    "id": "tuS600Pmo-A8"
   },
   "outputs": [],
   "source": [
    "import os\n",
    "\n",
    "# Check if running on Colab\n",
    "try:\n",
    "    import google.colab\n",
    "    IN_COLAB = True\n",
    "except ImportError:\n",
    "    IN_COLAB = False\n",
    "\n",
    "# Set file path based on environment\n",
    "if IN_COLAB:\n",
    "    file_path = 'data/lorem_ipsum.txt'\n",
    "else:\n",
    "    file_path = '../data/lorem_ipsum.txt'\n",
    "\n",
    "# If running in Colab, download the file\n",
    "if IN_COLAB and not os.path.exists(file_path):\n",
    "    os.makedirs('data', exist_ok=True)\n",
    "    !wget -q https://raw.githubusercontent.com/MEDC0080/RDKitTutorial/main/data/lorem_ipsum.txt -O {file_path}\n",
    "\n",
    "# Open the file and read its content\n",
    "with open(file_path) as f:\n",
    "    content = f.read()\n",
    "\n",
    "# The file is now closed as we are outside the `with` block\n",
    "print(f.closed)  # Should print `True` if the file is closed\n",
    "print(\"\\n\" + \"File content: \" + content)  # The \"\\n\" adds a new line"
   ]
  },
  {
   "cell_type": "markdown",
   "metadata": {
    "id": "J2ZLG5EPb4Yf"
   },
   "source": [
    "To check out more about reading files download this [Cheat-Sheet](https://github.com/ehmatthes/pcc_2e/releases/download/v1.0.1/beginners_python_cheat_sheet_pcc_files_exceptions.pdf).\n",
    "\n",
    "----\n",
    "\n",
    "## Discussion\n",
    "\n",
    "That was it for the Python introduction.\n",
    "\n",
    "Feel free to add more code cells and experiment with the concepts you have learnt.\n",
    "\n",
    "You should now know enough to move onto the **RDKit-focused content** in [`02_rdkit_introduction.ipynb`](02_rdkit_introduction.ipynb). Use this notebook as a reference if you need to refresh any of the concepts covered here.\n",
    "\n",
    "If you want to learn more there are some external resources linked at the beginning of this notebook. You can click [here](#Contents) to go back to the top."
   ]
  }
 ],
 "metadata": {
  "colab": {
   "provenance": [
    {
     "file_id": "https://github.com/MEDC0080/RDKitTutorial/blob/main/notebooks/01_python_introduction.ipynb",
     "timestamp": 1754317587143
    }
   ]
  },
  "kernelspec": {
   "display_name": "Python 3 (ipykernel)",
   "language": "python",
   "name": "python3"
  },
  "language_info": {
   "codemirror_mode": {
    "name": "ipython",
    "version": 3
   },
   "file_extension": ".py",
   "mimetype": "text/x-python",
   "name": "python",
   "nbconvert_exporter": "python",
   "pygments_lexer": "ipython3",
   "version": "3.11.5"
  },
  "pycharm": {
   "stem_cell": {
    "cell_type": "raw",
    "metadata": {
     "collapsed": false
    },
    "source": []
   }
  }
 },
 "nbformat": 4,
 "nbformat_minor": 4
}
