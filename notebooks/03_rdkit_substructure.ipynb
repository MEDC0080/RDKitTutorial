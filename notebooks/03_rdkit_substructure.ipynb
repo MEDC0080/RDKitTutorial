{
 "cells": [
  {
   "cell_type": "markdown",
   "metadata": {
    "id": "KsXX23iU-0Qd"
   },
   "source": [
    "# 03 – Substructure searching with RDKit\n",
    "\n",
    "Authored by: *Fredrik Svensson, Oliver Scott*  \n",
    "Edited by: *Florion Peni*\n",
    "\n",
    "You can use the links in the [Contents](#Contents) section to navigate the notebook.\n",
    "\n",
    "Please ensure you complete [`02_rdkit_introduction.ipynb`](02_rdkit_introduction.ipynb) before proceeding with the content in this notebook. If you are not familiar with the Python basics, make sure to go through [`01_python_introduction.ipynb`](01_python_introduction.ipynb) first.\n",
    "\n",
    "⚠️ **Please run the code cells in order**. Skipping cells may result in errors due to missing variables or imports.\n",
    "\n",
    "This notebook introduces the principles of substructure searching and filtering using RDKit.\n",
    "\n",
    "### JupyterLab / Google Colab\n",
    "\n",
    "**JupyterLab** is an open-source interface for running and sharing notebooks with code and text.  \n",
    "**Google Colab** is a cloud-based version of Jupyter that runs in your browser and connects to free GPUs and TPUs.\n",
    "\n",
    "> *When working in Colab, any files saved in the runtime (e.g. downloaded datasets or generated outputs) are temporary and will be deleted when you close the tab or your session times out.*  \n",
    "You can view runtime files by clicking the folder icon in the left-hand toolbar. If you are working with important files, make sure to download them to your local machine or save them to Google Drive before ending your session.\n",
    "\n",
    "> If you make edits to this notebook and would like to save them you can save your own copy by clicking on **File > Save a copy in Drive** in the top menu. This ensures your work is preserved even after you close the runtime.\n",
    "\n",
    "### Writing and running code\n",
    "\n",
    "You can write and run Python code inside **code cells**.\n",
    "\n",
    "First, select it by clicking on it. Then:\n",
    "- Click the run/play button located inside the cell (in Colab) or in the toolbar above (in JupyterLab), or\n",
    "- Use these keyboard shortcuts:\n",
    "  - Windows: `Ctrl` + `Enter`\n",
    "  - macOS: `⌘ Command` + `Enter`\n",
    "\n",
    "> When you first run code on this notebook in Google Colab, you may see a message like:  \n",
    "*“This notebook was not authored by Google. It may request access to your data…”*  \n",
    "This is expected for notebooks loaded from GitHub. Click the *“Run anyway”* button when prompted to start running the code.\n",
    "\n",
    "## Contents\n",
    "\n",
    "> Internal markdown links (like the ones below) may not work reliably in Colab. To navigate the notebook, use the **Table of contents** panel: click the first icon in the left-hand toolbar.\n",
    "\n",
    "* [Substructure](#Substructure)\n",
    "* [SMARTS](#SMARTS)\n",
    "* [Basic SMARTS queries](#Basic-SMARTS-queries)\n",
    "* [Substructure searching on large amounts of data](#Substructure-searching-on-large-amounts-of-data)\n",
    "* [Substructure filtering](#Substructure-filtering)\n",
    "* [Discussion](#Discussion)\n",
    "\n",
    "---\n",
    "\n",
    "## Substructure\n",
    "\n",
    "Substructure searching and filtering is a fundamental tool in cheminformatics. It involves identifying a specific pattern (*subgraph*) within a molecule (*graph*). This process is widely used in various cheminformatics applications involving digital representations of molecules, including:\n",
    "\n",
    "- **depiction**: highlighting functional groups within a molecule,\n",
    "- **drug design**: searching databases and performing Structure-Activity Relationship (SAR) analyses,\n",
    "- and **analytical chemistry**: searching for previously characterised structures and comparing data to that of an unknown molecule.\n",
    "\n",
    "Substructure searching is ubiquitous and integral to cheminformatics workflows. For example, you have likely used substructure searching in online databases such as [ChEMBL](https://www.ebi.ac.uk/chembl/), [DrugBank](https://go.drugbank.com/), and [PubChem](https://pubchem.ncbi.nlm.nih.gov/).\n",
    "<a href=\"https://pharmanalytics.medium.com/using-graph-cliques-to-compute-combined-2d-3d-molecule-similarity-e0608595438b\">\n",
    "    <img src=\"https://miro.medium.com/v2/resize:fit:625/1*qx5GulpkdJf8wQT-NQJlYQ.png\" alt=\"Using Graph Cliques to Compute combined 2D & 3D Molecule similarity\" style=\"display: block; margin-left: auto; margin-right: auto;\">\n",
    "    <figcaption style=\"text-align: center;\">Example: Maximum common subgraph of a molecule set</figcaption>\n",
    "</a>\n",
    "\n",
    "[Image source](https://miro.medium.com/v2/resize:fit:625/1*qx5GulpkdJf8wQT-NQJlYQ.png)\n",
    "\n",
    "---\n",
    "\n",
    "## SMARTS\n",
    "\n",
    "**SMiles ARbitrary Target Specification (SMARTS)** is an extension of SMILES that allows users to define substructural patterns within molecules. Its expressive syntax supports precise and transparent substructure specification and atom typing.\n",
    "\n",
    "**Most SMILES strings are also valid SMARTS strings.** The key difference between SMILES and SMARTS lies in the introduction of logical operators (e.g., `!`, `&`, `,`, `;`) and special atomic and bond symbols (e.g., `*`, `~`). These additions allow SMARTS atoms and bonds to be more general.\n",
    "\n",
    "For example, the SMARTS atomic symbol `[C,N]` represents an atom that can be either aliphatic carbon (C) or aliphatic nitrogen (N).\n",
    "\n",
    "### Applications\n",
    "\n",
    "Using SMARTS patterns, we can define key molecular features like hydrogen bond (HB) donors and acceptors. This is helpful for applying Lipinski's Rule of Five (Ro5).\n",
    "\n",
    "Uppercase atomic symbols represent aliphatic atoms, whereas lowercase atomic symbols represent aromatic atoms. The notation `#Z` matches any atom with the atomic number *Z*, regardless of its chemical environment.\n",
    "\n",
    "- **HB donors**: Nitrogen or oxygen atoms with at least one directly bonded hydrogen atom.  \n",
    "  >`[N,n,O;!H0]` or `[#7,#8;!H0]`;\n",
    "   \n",
    "- **HB acceptors**: Nitrogen or oxygen atoms (aliphatic or aromatic).  \n",
    "  >`[N,n,O,o]` or `[#7,#8]`\n",
    "\n",
    "These patterns can be made more complex for more precise matching, depending on the application. For more detailed information, consult the following resources:\n",
    "\n",
    "- A comprehensive guide to SMARTS is available on the [Daylight website](https://www.daylight.com/dayhtml/doc/theory/theory.smarts.html).\n",
    "- The [SMARTS Plus](https://smartsview.zbh.uni-hamburg.de/) tool is useful for exploring and visualising SMARTS patterns.\n",
    "\n",
    "### Substructure matching in RDKit\n",
    "\n",
    "The code below demonstrates how to read a SMARTS string and perform substructure matching using RDKit."
   ]
  },
  {
   "cell_type": "code",
   "execution_count": null,
   "metadata": {
    "id": "Ya2K-_cs-0Qd"
   },
   "outputs": [],
   "source": [
    "# Checks if running in Google Colab\n",
    "try:\n",
    "    import google.colab\n",
    "    IN_COLAB = True\n",
    "except ImportError:\n",
    "    IN_COLAB = False\n",
    "\n",
    "# Install RDKit if in Colab\n",
    "if IN_COLAB:\n",
    "    print(\"Installing RDKit for Colab. May take a few seconds...\")\n",
    "    !pip install rdkit -q\n",
    "    print(\"Installation complete.\")\n",
    "\n",
    "from rdkit.Chem import Draw  # We will use Draw to visualise molecules\n",
    "from rdkit import Chem  # We will again require the Chem module\n",
    "\n",
    "# Define a molecule to perform substructure matching on\n",
    "smiles = 'OB1OCC2=C1C=CC(OC1=CC=C(C=C1)C#N)=C2'  # This is the SMILES for Crisaborole\n",
    "molecule = Chem.MolFromSmiles(smiles)\n",
    "molecule"
   ]
  },
  {
   "cell_type": "markdown",
   "metadata": {
    "id": "2w4qA-jw-0Qe"
   },
   "source": [
    "Let's try matching the nitrile group (−C≡N).  \n",
    "First, we should define a SMARTS substructure pattern to describe the triple bond between a nitrogen and a carbon atom.\n",
    "\n",
    "`[NX1]#[CX2]`\n",
    "* `N` matches a nitrogen atom, whereas `X1` specifies that the nitrogen atom has exactly 1 connection, i.e. a triple bond.\n",
    "* `#` represents a triple bond between two atoms.\n",
    "* `CX2` matches a carbon atom that has exactly 2 connections, i.e. a triple bond and a single bond."
   ]
  },
  {
   "cell_type": "code",
   "execution_count": null,
   "metadata": {
    "id": "r6Ac6z2b-0Qe"
   },
   "outputs": [],
   "source": [
    "# Define a SMARTS pattern\n",
    "nitrile_smarts = '[NX1]#[CX2]'\n",
    "\n",
    "# Use RDKit to read the SMARTS pattern\n",
    "nitrile = Chem.MolFromSmarts(nitrile_smarts)\n",
    "\n",
    "# Visualise the SMARTS pattern (the carbon atom is not shown by default)\n",
    "nitrile"
   ]
  },
  {
   "cell_type": "markdown",
   "metadata": {
    "id": "JC5sXRhr-0Qe"
   },
   "source": [
    "Now we can use RDKit to apply this SMARTS pattern and identify nitrile groups within molecules."
   ]
  },
  {
   "cell_type": "code",
   "execution_count": null,
   "metadata": {
    "id": "dQgXfJDF-0Qe",
    "tags": [
     "raises-exception"
    ]
   },
   "outputs": [],
   "source": [
    "# Check if the molecule contains the nitrile substructure\n",
    "print(molecule.HasSubstructMatch(nitrile))  # Method returns a Boolean\n",
    "\n",
    "# Get the atom indexes of the substructure match\n",
    "atom_indexes = molecule.GetSubstructMatch(nitrile)  # Method returns a tuple of integers\n",
    "print(atom_indexes)\n",
    "\n",
    "# Highlight the matching atoms when visualising the molecule\n",
    "img = Draw.MolToImage(molecule,\n",
    "                      highlightAtoms=atom_indexes,\n",
    "                      legend='C and N atoms of nitrile group in Crisaborole')\n",
    "img"
   ]
  },
  {
   "cell_type": "markdown",
   "metadata": {
    "id": "wIc1GrFj-0Qe"
   },
   "source": [
    "If we wanted to get multiple matches for a substructure in a single molecule we would need to use the `.GetSubstructMatches()` method as opposed to `.GetSubstructMatch()`.\n",
    "\n",
    "----\n",
    "\n",
    "## Basic SMARTS queries\n",
    "\n",
    "Now that we know how to use RDKit for substructure matching, we can extend this concept to find substructure matches within a collection of molecules.\n",
    "\n",
    "In the code below, we define a set of aromatic compounds."
   ]
  },
  {
   "cell_type": "code",
   "execution_count": null,
   "metadata": {
    "id": "Ch5MWOBT-0Qe"
   },
   "outputs": [],
   "source": [
    "# Define some aromatic compounds using SMILES\n",
    "naphthalene = Chem.MolFromSmiles('c12ccccc1cccc2')\n",
    "benzoxazole = Chem.MolFromSmiles('n1c2ccccc2oc1')\n",
    "indane = Chem.MolFromSmiles('c1ccc2c(c1)CCC2')\n",
    "skatole = Chem.MolFromSmiles('CC1=CNC2=CC=CC=C12')\n",
    "benzene = Chem.MolFromSmiles('c1ccccc1')\n",
    "quinoline = Chem.MolFromSmiles('n1cccc2ccccc12')\n",
    "\n",
    "# Define a list holding the RDKit `Mol` objects\n",
    "my_molecules = [\n",
    "    naphthalene,\n",
    "    benzoxazole,\n",
    "    indane,\n",
    "    skatole,\n",
    "    benzene,\n",
    "    quinoline\n",
    "]\n",
    "\n",
    "# Define a separate list holding the names of the aromatic compounds\n",
    "labels = [\n",
    "    'Naphthalene',\n",
    "    'Benzoxazole',\n",
    "    'Indane',\n",
    "    'Skatole',\n",
    "    'Benzene',\n",
    "    'Quinoline'\n",
    "]\n",
    "\n",
    "# Visualise the aromatic compounds\n",
    "img = Draw.MolsToGridImage(my_molecules, legends=labels)\n",
    "img"
   ]
  },
  {
   "cell_type": "markdown",
   "metadata": {
    "id": "cGTwx5qT-0Qf"
   },
   "source": [
    "We can use specific ring patterns to perform substructure matching. The SMARTS patterns in the code cell below are used to match five- and six-membered rings fused to a benzene.\n",
    "\n",
    "- `[*r5R1]` represents atoms in a five-membered ring.\n",
    "- `[*r6R1]`represents atoms in a six-membered ring.\n",
    "- `[cR1]` and `[cR2]` specify aromatic carbons that belong to one and two ring systems, respectively.\n",
    "- `1` and `2` are ring closure notations indicating fused rings.\n",
    "\n",
    "The `Draw.MolsToGridImage` function is used to visualise both SMARTS patterns side by side, with appropriate labels for each. This approach allows easy comparison of the patterns."
   ]
  },
  {
   "cell_type": "code",
   "execution_count": null,
   "metadata": {
    "id": "eGg3BQJA-0Qf"
   },
   "outputs": [],
   "source": [
    "# Define SMARTS queries for five- and six-membered rings fused to a benzene\n",
    "benzo_five = Chem.MolFromSmarts('[*r5R1]1[cR2]2[cR1][cR1][cR1][cR1][cR2]2[*r5R1][*r5R1]1')\n",
    "benzo_six = Chem.MolFromSmarts('[*r6R1]1[cR2]2[cR1][cR1][cR1][cR1][cR2]2[*r6R1][*r6R1][*r6R1]1')\n",
    "\n",
    "# Visualise the SMARTS patterns\n",
    "img = Draw.MolsToGridImage([benzo_five, benzo_six], legends=['Benzo-5', 'Benzo-6'])\n",
    "img"
   ]
  },
  {
   "cell_type": "markdown",
   "metadata": {
    "id": "BfI3ZHuF-0Qf"
   },
   "source": [
    "Let's find molecules matching the `benzo_five` pattern."
   ]
  },
  {
   "cell_type": "code",
   "execution_count": null,
   "metadata": {
    "id": "heZzUAGD-0Qf"
   },
   "outputs": [],
   "source": [
    "# Create an empty list to store the atom indexes of substructure matches\n",
    "atom_indexes = []\n",
    "\n",
    "# Loop through each molecule in the collection\n",
    "for mol in my_molecules:\n",
    "    # Find the atom indexes of the first substructure match for the SMARTS pattern `benzo_five`\n",
    "    _ = mol.GetSubstructMatch(benzo_five)\n",
    "    # Append the match (atom indexes) to the list\n",
    "    atom_indexes.append(_)\n",
    "\n",
    "# Visualise the molecules in a grid with matches highlighted\n",
    "img = Draw.MolsToGridImage(my_molecules, legends=labels, highlightAtomLists=atom_indexes)\n",
    "img"
   ]
  },
  {
   "cell_type": "markdown",
   "metadata": {
    "id": "5nDVEEoU-0Qf"
   },
   "source": [
    "#### Exercise 1: Basic SMARTS queries\n",
    "\n",
    "Using the `my_molecules` list and the `benzo_six` SMARTS pattern, complete the following tasks:\n",
    "\n",
    "1. Determine which heterocycle(s) in the list match the pattern.\n",
    "2. Highlight the matched atoms in the molecule(s) and visualise the result.\n",
    "3. If you're up for a challenge, create a SMARTS pattern that matches a benzene ring while excluding other aromatic systems. You can use the [Daylight website](https://www.daylight.com/dayhtml/doc/theory/theory.smarts.html) as a reference to help refine your pattern."
   ]
  },
  {
   "cell_type": "code",
   "execution_count": null,
   "metadata": {
    "id": "J0Z0agg--0Qf"
   },
   "outputs": [],
   "source": [
    "# Add your solution code here"
   ]
  },
  {
   "cell_type": "markdown",
   "metadata": {
    "id": "T13iP7TW-0Qf"
   },
   "source": [
    "----\n",
    "\n",
    "## Substructure searching on large amounts of data\n",
    "\n",
    "Can you guess the class of drugs defined by the SMARTS query in the code cell below, without executing the code?\n",
    "\n",
    "<details>\n",
    "<summary>Hint</summary>\n",
    "Sulfamethoxazole, an antibiotic, and sulfasalazine, used for treatment of inflammatory diseases, are both representatives of this class. What functional group do they have in common?\n",
    "<br>\n",
    "    <div style=\"text-align: center;\">\n",
    "    <img src=\"https://github.com/MEDC0080/RDKitTutorial/blob/main/data/sulfonamide_drugs.png?raw=1\" alt=\"Sulfamethoxazole and Sulfasalazine\" width=\"500\"/>\n",
    "</div>\n",
    "</details>"
   ]
  },
  {
   "cell_type": "code",
   "execution_count": null,
   "metadata": {
    "id": "y28UfFv_-0Qf"
   },
   "outputs": [],
   "source": [
    "query = Chem.MolFromSmarts('Nc1ccc(S(=O)(=O)-[*])cc1')\n",
    "query"
   ]
  },
  {
   "cell_type": "markdown",
   "metadata": {
    "id": "c97t3eR7-0Qf"
   },
   "source": [
    "We will use this SMARTS query to search for matches in the `approved_drugs.sdf` file."
   ]
  },
  {
   "cell_type": "code",
   "execution_count": null,
   "metadata": {
    "id": "g9EKB1a_-0Qf"
   },
   "outputs": [],
   "source": [
    "import os\n",
    "\n",
    "# Check if running on Colab\n",
    "try:\n",
    "    import google.colab\n",
    "    IN_COLAB = True\n",
    "except ImportError:\n",
    "    IN_COLAB = False\n",
    "\n",
    "# Set file path based on environment\n",
    "if IN_COLAB:\n",
    "    approved_drugs_file = 'data/approved_drugs.sdf'\n",
    "else:\n",
    "    approved_drugs_file = '../data/approved_drugs.sdf'\n",
    "\n",
    "# If running in Colab, download the file\n",
    "if IN_COLAB and not os.path.exists(approved_drugs_file):\n",
    "    os.makedirs('data', exist_ok=True)\n",
    "    !wget -q https://raw.githubusercontent.com/MEDC0080/RDKitTutorial/main/data/approved_drugs.sdf -O {approved_drugs_file}\n",
    "\n",
    "# Read the file into a supplier of `Mol` objects using the `Chem.SDMolSupplier()` function\n",
    "# Each molecule in the SDF file is read as an RDKit `Mol` object\n",
    "supplier = Chem.SDMolSupplier(approved_drugs_file)\n",
    "\n",
    "# Initialise empty lists to store matched `Mol` objects and their labels\n",
    "matches = []          # Stores matched `Mol` objects\n",
    "matches_labels = []   # Stores labels (e.g., names or primary synonyms) of matched molecules\n",
    "\n",
    "# Perform substructure matching\n",
    "for molecule in supplier:\n",
    "    if molecule is None:\n",
    "        continue  # Skip invalid molecules\n",
    "    if molecule.HasSubstructMatch(query):\n",
    "        # Retrieve the ChEMBL ID stored in the '_Name' property\n",
    "        cid = molecule.GetProp('_Name')\n",
    "        # Retrieve the synonyms stored in the 'SYNONYMS' property\n",
    "        syn = molecule.GetProp('SYNONYMS')\n",
    "        # Print match information\n",
    "        print('MATCH:', cid, syn)\n",
    "        # Append the matched `Mol` object and its primary name to the lists\n",
    "        matches.append(molecule)\n",
    "        matches_labels.append(syn.split(' (')[0])  # Extract primary name before parentheses\n",
    "\n",
    "print('\\nNumber of matches:', len(matches)) # Compute and display the number of matches\n",
    "print(matches_labels)"
   ]
  },
  {
   "cell_type": "markdown",
   "metadata": {
    "id": "mrBK_Y_C-0Qf"
   },
   "source": [
    "In the code above, you may have noticed the use of the `.split()` method on a string. This function splits a string into a list of substrings based on a specified delimiter. For instance, we split the `syn` string on the `' ('` characters to extract only the first synonym, which is located at index `0` in the resulting list.\n",
    "\n",
    "```python\n",
    "my_string = 'green, yellow, red'\n",
    "substrings = my_string.split(', ')\n",
    "print(substrings)\n",
    "\n",
    "# Output: ['green', 'yellow', 'red']\n",
    "```\n",
    "\n",
    "We have now found matches for our substructure query. We can visualise some of the molecules to see if they contain the **sulfonamide** functional group.  \n",
    "You can try modifying the number of molecules displayed in the visualisation by adjusting the indexing."
   ]
  },
  {
   "cell_type": "code",
   "execution_count": null,
   "metadata": {
    "id": "czhM-7mS-0Qf"
   },
   "outputs": [],
   "source": [
    "from rdkit.Chem import AllChem\n",
    "\n",
    "# The matched molecules currently have 3D coordinates\n",
    "# To ensure a clear and consistent 2D representation for drawing, we compute 2D coordinates\n",
    "for match in matches:\n",
    "    AllChem.Compute2DCoords(match)\n",
    "\n",
    "# Draw a grid of the first 9 matched molecules\n",
    "img = Draw.MolsToGridImage(matches[0:9], legends=matches_labels)\n",
    "img"
   ]
  },
  {
   "cell_type": "markdown",
   "metadata": {
    "id": "4XaP2iJ8-0Qf"
   },
   "source": [
    "#### Exercise 2: Substructure searching on large amounts of data\n",
    "\n",
    "Using the SMARTS pattern `[*X1]=[CR1]1[CR1][NR1]=[CR1;X3](c2ccccc2)c2ccccc2[NR1]1`, you will need to complete the following tasks:\n",
    "\n",
    "1. Identify the number of molecules in `appproved_drugs.sdf` that contain this substructure.\n",
    "2. Find out what substructure the SMARTS pattern represents.\n",
    "3. Visualise the molecules containing this substructure.\n",
    "4. Define your own SMARTS pattern and repeat the substructure matching process to explore a different substructure.\n",
    "\n",
    "<details>\n",
    "<summary>Example solution</summary>\n",
    "\n",
    "<br>1. This is pretty straightforward and identical to the code above.<br>\n",
    "    \n",
    "```python\n",
    "supplier = Chem.SDMolSupplier(approved_drugs_file)\n",
    "\n",
    "smarts_pattern = '[*X1]=[CR1]1[CR1][NR1]=[CR1;X3](c2ccccc2)c2ccccc2[NR1]1'\n",
    "query = Chem.MolFromSmarts(smarts_pattern)\n",
    "\n",
    "matches = []\n",
    "matches_labels = []\n",
    "\n",
    "for molecule in supplier:\n",
    "    if molecule is None:\n",
    "        continue\n",
    "    if molecule.HasSubstructMatch(query):\n",
    "        cid = molecule.GetProp('_Name')\n",
    "        syn = molecule.GetProp('SYNONYMS')\n",
    "        print('MATCH:', cid, syn)\n",
    "        matches.append(molecule)\n",
    "        matches_labels.append(syn.split('(')[0])\n",
    "\n",
    "print('\\nNumber of matches:', len(matches))\n",
    "```\n",
    "<br>2. You will see that the SMARTS pattern represents a cyclic imine structure (a ring containing a carbon-nitrogen double bond) fused to one benzene ring and connected to another. This type of structure is often seen in complex organic compounds, particularly heterocycles with extended conjugation or aromaticity.<br>\n",
    "```python\n",
    "query = Chem.MolFromSmarts(smarts_pattern)\n",
    "\n",
    "img1 = Draw.MolToImage(query, legend=\"SMARTS Pattern\")\n",
    "img1\n",
    "```\n",
    "<br>3. To show all matched molecules, you can execute the code shown below in a new cell.<br>\n",
    "```python\n",
    "for match in matches:\n",
    "    AllChem.Compute2DCoords(match)\n",
    "img2 = Draw.MolsToGridImage(matches, legends=matches_labels)\n",
    "img2\n",
    "```\n",
    "<br>4. For example, to match a hydroxyl group attached to an aromatic ring, you could use the SMARTS pattern shown below. Try re-executing the same code but with `custom_query` as your SMARTS query.<br>\n",
    "```python\n",
    "custom_smarts = '[c][OH]'\n",
    "custom_query = Chem.MolFromSmarts(custom_smarts)\n",
    "```\n",
    "</details>"
   ]
  },
  {
   "cell_type": "code",
   "execution_count": null,
   "metadata": {
    "id": "Cts1aXZd-0Qf"
   },
   "outputs": [],
   "source": [
    "# Write your solution code here, adding extra code cells if necessary"
   ]
  },
  {
   "cell_type": "markdown",
   "metadata": {
    "id": "tgdGbI_v-0Qf"
   },
   "source": [
    "----\n",
    "\n",
    "## Substructure filtering\n",
    "\n",
    "While identifying molecules with specific substructures is often valuable, there are cases where we might want to **remove molecules** containing certain unwanted substructures from a dataset.\n",
    "\n",
    "Some substructures can be undesirable due to properties like **toxicity** or **high reactivity**. With the advent of high-throughput screening (HTS), the need to filter out problematic compounds from screening libraries has grown.\n",
    "\n",
    "### Pan-assay interference compounds (PAINS)\n",
    "\n",
    "**PAINS** are chemical compounds known to often produce false positive results in HTS. These compounds tend to react non-specifically with a wide range of biological targets rather than selectively affecting the desired target. When designing screening libraries, it is beneficial to filter out PAINS to improve the reliability of screening results.\n",
    "\n",
    "<a href=\"https://en.wikipedia.org/wiki/Pan-assay_interference_compounds\" style=\"text-decoration: none;\">\n",
    "    <div style=\"text-align: center;\">\n",
    "        <img src=\"https://upload.wikimedia.org/wikipedia/commons/thumb/3/34/PAINS_Figure.tif/lossy-page1-1920px-PAINS_Figure.tif.jpg\"\n",
    "             alt=\"PAINS Figure\"\n",
    "             style=\"width: 70%; max-width: 700px; height: auto;\">\n",
    "    </div>\n",
    "</a>\n",
    "\n",
    "[Image source](https://upload.wikimedia.org/wikipedia/commons/thumb/3/34/PAINS_Figure.tif/lossy-page1-1920px-PAINS_Figure.tif.jpg)\n",
    "\n",
    "### Filtering PAINS with RDKit\n",
    "\n",
    "RDKit provides a toolset for filtering compounds using multiple SMARTS patterns, making it easier to identify and remove problematic molecules. The `FilterCatalog` module in RDKit simplifies the process of substructure matching across multiple SMARTS patterns.\n",
    "\n",
    "RDKit also includes a **library of PAINS patterns** that can be used directly to filter these compounds from your dataset. While this could be achieved by manually iterating through a list of SMARTS patterns, `FilterCatalog` provides a more efficient and structured approach."
   ]
  },
  {
   "cell_type": "code",
   "execution_count": null,
   "metadata": {
    "id": "KZzM46cC-0Qf"
   },
   "outputs": [],
   "source": [
    "# Import multiple classes from a module using commas\n",
    "from rdkit.Chem.FilterCatalog import FilterCatalog, FilterCatalogParams\n",
    "\n",
    "# Create an object to hold the `FilterCatalogParams()` function\n",
    "params = FilterCatalogParams()\n",
    "\n",
    "# Add PAINS patterns to the parameters\n",
    "params.AddCatalog(FilterCatalogParams.FilterCatalogs.PAINS)\n",
    "\n",
    "# Create a filter catalogue using the defined parameters\n",
    "catalog = FilterCatalog(params)\n",
    "\n",
    "# Print the number of PAINS patterns in the catalogue\n",
    "print('Number of PAINS patterns:', catalog.GetNumEntries())"
   ]
  },
  {
   "cell_type": "markdown",
   "metadata": {
    "id": "Z1bEpxV4-0Qg"
   },
   "source": [
    "<details>\n",
    "<summary>Detailed explanation</summary>\n",
    "\n",
    "```python\n",
    "from rdkit.Chem.FilterCatalog import FilterCatalog, FilterCatalogParams\n",
    "```\n",
    "\n",
    "- This line imports the `FilterCatalog` and `FilterCatalogParams` classes from RDKit's `FilterCatalog` module.\n",
    "    - `FilterCatalogParams`: A class used to define the parameters for building a filter catalogue.\n",
    "    - `FilterCatalog`: A class used to create a catalogue of filters based on the specified parameters.\n",
    "\n",
    "```python\n",
    "params = FilterCatalogParams()\n",
    "```\n",
    "\n",
    "- Creates an instance of the `FilterCatalogParams` class, which is used to configure the filter catalogue.\n",
    "    - The `params` object acts as a container for the filtering rules that will be added, i.e., PAINS patterns.\n",
    "\n",
    "```python\n",
    "params.AddCatalog(FilterCatalogParams.FilterCatalogs.PAINS)\n",
    "```\n",
    "\n",
    "- Ensures that the PAINS rules are included in the filter catalogue configuration.\n",
    "    - `AddCatalog`: Adds a specific catalogue of filtering rules to the parameters object.\n",
    "    - `FilterCatalogParams.FilterCatalogs.PAINS`: Refers to the PAINS filtering rules provided by RDKit.\n",
    "\n",
    "```python\n",
    "catalog = FilterCatalog(params)\n",
    "```\n",
    "\n",
    "- Creates a `FilterCatalog` object using the `params` configuration defined earlier.\n",
    "    - The `catalog` object contains the PAINS filtering rules and can be used to screen molecules for PAINS substructures.\n",
    "\n",
    "```python\n",
    "print('Number of PAINS patterns:', catalog.GetNumEntries())\n",
    "```\n",
    "\n",
    "- This line outputs the number of PAINS substructures included in the catalogue.\n",
    "    - `.GetNumEntries()`: A method of the `FilterCatalog` class that returns the total number of PAINS patterns (filtering rules) in the catalogue.\n",
    "</details>\n",
    "<br>\n",
    "\n",
    "In the code below, we perform **PAINS filtering** on a dataset of molecules represented as SMILES strings.\n",
    "\n",
    "The dataset we are using, `MAPK_compounds.csv`, contains **mitogen-activated protein kinase (MAPK) compounds**, which are molecules known or thought to interact with the MAPK pathway that plays a crucial role in regulating cellular processes (e.g. proliferation, differentiation, and apoptosis). The compounds are stored in a **CSV file** as it is a common, efficient format for storing tabular data.\n",
    "\n",
    "The code reads the file, filters the compounds using RDKit's PAINS filter catalogue, and splits the molecules into two categories:\n",
    "1. `filtered_mols`; those containing substructures matching a PAINS pattern,\n",
    "2. and `kept_mols`; those without any PAINS substructures.\n",
    "\n",
    "Additionally, the code extracts descriptions of the PAINS patterns for molecules that match, and visualises the first nine filtered molecules along with their matched PAINS descriptions.\n",
    "\n",
    "By running this code, we can *remove PAINS compounds from the dataset*, ensuring a cleaner library of molecules for *further analysis* or *drug discovery efforts*."
   ]
  },
  {
   "cell_type": "code",
   "execution_count": null,
   "metadata": {
    "id": "o6jKGg5m-0Qg"
   },
   "outputs": [],
   "source": [
    "# Set file path based on environment\n",
    "if IN_COLAB:\n",
    "    csv_file = 'data/MAPK_compounds.csv'\n",
    "else:\n",
    "    csv_file = '../data/MAPK_compounds.csv'\n",
    "\n",
    "# If running in Colab, download the file\n",
    "if IN_COLAB and not os.path.exists(csv_file):\n",
    "    os.makedirs('data', exist_ok=True)\n",
    "    !wget -q https://raw.githubusercontent.com/MEDC0080/RDKitTutorial/main/data/MAPK_compounds.csv -O {csv_file}\n",
    "\n",
    "# Read the file into a supplier of `Mol` objects using the `Chem.SmilesMolSupplier()` function\n",
    "# Each molecule in the CSV file is read as an RDKit `Mol` object\n",
    "# SMILES strings are in the 5th column, molecule names are in the 2nd column\n",
    "supplier = Chem.SmilesMolSupplier(csv_file, delimiter=',', smilesColumn=4, nameColumn=1)\n",
    "\n",
    "# Initialise lists to store filtered and retained molecules\n",
    "filtered_mols = []   # Molecules containing PAINS substructures\n",
    "filtered_pains = []  # Descriptions of the PAINS patterns for filtered molecules\n",
    "kept_mols = []       # Molecules that do not contain PAINS substructures\n",
    "\n",
    "# Perform PAINS filtering\n",
    "for molecule in supplier:\n",
    "    if molecule is None:\n",
    "        continue  # Skip invalid or unreadable molecules\n",
    "    # Check if the molecule matches any PAINS pattern using the catalogue\n",
    "    match = catalog.GetFirstMatch(molecule)\n",
    "    if match:  # If a PAINS pattern is matched\n",
    "        AllChem.Compute2DCoords(molecule)  # Ensure 2D coordinates for drawing\n",
    "        filtered_mols.append(molecule)  # Add molecule to the filtered list\n",
    "        filtered_pains.append(match.GetDescription())  # Save the PAINS description\n",
    "    else:  # If no PAINS patterns match\n",
    "        kept_mols.append(molecule)  # Add molecule to the `kept_mols` list\n",
    "\n",
    "# Output the number of molecules filtered out\n",
    "print('Number of filtered PAINS:', len(filtered_mols))\n",
    "\n",
    "# Output the number of remaining molecules\n",
    "print('Remaining molecules:', len(kept_mols))\n",
    "\n",
    "# Visualise the first 9 filtered molecules with their PAINS descriptions\n",
    "img = Draw.MolsToGridImage(filtered_mols[0:9], legends=filtered_pains[0:9])\n",
    "img"
   ]
  },
  {
   "cell_type": "markdown",
   "metadata": {
    "id": "J-wJxwcp-0Qg"
   },
   "source": [
    "---\n",
    "\n",
    "## Discussion\n",
    "\n",
    "That concludes our introduction to substructure searching with RDKit. Feel free to add more code cells and experiment with the concepts learned.\n",
    "\n",
    "With a solid understanding of substructure searching, you are now ready to explore more advanced topics. In the next notebook, [`04_rdkit_similarity.ipynb`](04_rdkit_similarity.ipynb), we will delve into **similarity searching using molecular fingerprints** with RDKit.\n",
    "\n",
    "You can click [here](#Contents) to return to the beginning and review any topics as needed."
   ]
  }
 ],
 "metadata": {
  "celltoolbar": "Tags",
  "colab": {
   "provenance": []
  },
  "kernelspec": {
   "display_name": "Python 3 (ipykernel)",
   "language": "python",
   "name": "python3"
  },
  "language_info": {
   "codemirror_mode": {
    "name": "ipython",
    "version": 3
   },
   "file_extension": ".py",
   "mimetype": "text/x-python",
   "name": "python",
   "nbconvert_exporter": "python",
   "pygments_lexer": "ipython3",
   "version": "3.11.5"
  }
 },
 "nbformat": 4,
 "nbformat_minor": 4
}
