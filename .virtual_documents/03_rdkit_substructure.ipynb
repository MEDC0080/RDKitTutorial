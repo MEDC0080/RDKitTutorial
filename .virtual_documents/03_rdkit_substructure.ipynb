


from rdkit.Chem import Draw  # We will use Draw to visualise molecules
from rdkit import Chem  # We will again require the Chem module

# Define a molecule to perform substructure matching on
smiles = 'OB1OCC2=C1C=CC(OC1=CC=C(C=C1)C#N)=C2'  # This is the SMILES for Crisaborole
molecule = Chem.MolFromSmiles(smiles)
molecule





# Define a SMARTS pattern
nitrile_smarts = '[NX1]#[CX2]'

# Use RDKit to read the SMARTS pattern
nitrile = Chem.MolFromSmarts(nitrile_smarts)

# Visualise the SMARTS pattern (the carbon atom is not shown by default)
nitrile





# Check if the molecule contains the nitrile substructure
print(molecule.HasSubstructMatch(nitrile))  # Method returns a Boolean

# Get the atom indexes of the substructure match
atom_indexes = molecule.GetSubstructMatch(nitrile)  # Method returns a tuple of integers
print(atom_indexes)

# Highlight the matching atoms when visualising the molecule
img = Draw.MolToImage(molecule, 
                      highlightAtoms=atom_indexes, 
                      legend='C and N atoms of nitrile group in Crisaborole')
img





# Define some aromatic compounds using SMILES
naphthalene = Chem.MolFromSmiles('c12ccccc1cccc2')
benzoxazole = Chem.MolFromSmiles('n1c2ccccc2oc1')
indane = Chem.MolFromSmiles('c1ccc2c(c1)CCC2')
skatole = Chem.MolFromSmiles('CC1=CNC2=CC=CC=C12')
benzene = Chem.MolFromSmiles('c1ccccc1')
quinoline = Chem.MolFromSmiles('n1cccc2ccccc12')

# Define a list holding the RDKit `Mol` objects
my_molecules = [
    naphthalene, 
    benzoxazole,
    indane,
    skatole,
    benzene,
    quinoline
]

# Define a separate list holding the names of the aromatic compounds
labels = [
    'Naphthalene', 
    'Benzoxazole',
    'Indane',
    'Skatole',
    'Benzene',
    'Quinoline'
]

# Visualise the aromatic compounds
img = Draw.MolsToGridImage(my_molecules, legends=labels)
img





# Define SMARTS queries for five- and six-membered rings fused to a benzene
benzo_five = Chem.MolFromSmarts('[*r5R1]1[cR2]2[cR1][cR1][cR1][cR1][cR2]2[*r5R1][*r5R1]1')
benzo_six = Chem.MolFromSmarts('[*r6R1]1[cR2]2[cR1][cR1][cR1][cR1][cR2]2[*r6R1][*r6R1][*r6R1]1')

# Visualise the SMARTS patterns
img = Draw.MolsToGridImage([benzo_five, benzo_six], legends=['Benzo-5', 'Benzo-6'])
img





# Create an empty list to store the atom indexes of substructure matches
atom_indexes = []

# Loop through each molecule in the collection
for mol in my_molecules:
    # Find the atom indexes of the first substructure match for the SMARTS pattern `benzo_five`
    _ = mol.GetSubstructMatch(benzo_five)
    # Append the match (atom indexes) to the list
    atom_indexes.append(_)

# Visualise the molecules in a grid with matches highlighted
img = Draw.MolsToGridImage(my_molecules, legends=labels, highlightAtomLists=atom_indexes)
img





# Add your solution code here





query = Chem.MolFromSmarts('Nc1ccc(S(=O)(=O)-[*])cc1')
query





approved_drugs_file = 'data/approved_drugs.sdf'

# Read the file into a supplier of `Mol` objects using the `Chem.SDMolSupplier()` function
# Each molecule in the SDF file is read as an RDKit `Mol` object
supplier = Chem.SDMolSupplier(approved_drugs_file)

# Initialise empty lists to store matched `Mol` objects and their labels
matches = []          # Stores matched `Mol` objects
matches_labels = []   # Stores labels (e.g., names or primary synonyms) of matched molecules

# Perform substructure matching
for molecule in supplier:
    if molecule is None:
        continue  # Skip invalid molecules
    if molecule.HasSubstructMatch(query):
        # Retrieve the ChEMBL ID stored in the '_Name' property
        cid = molecule.GetProp('_Name')
        # Retrieve the synonyms stored in the 'SYNONYMS' property
        syn = molecule.GetProp('SYNONYMS')
        # Print match information
        print('MATCH:', cid, syn)
        # Append the matched `Mol` object and its primary name to the lists
        matches.append(molecule)
        matches_labels.append(syn.split(' (')[0])  # Extract primary name before parentheses

print('\nNumber of matches:', len(matches)) # Compute and display the number of matches
print(matches_labels)





from rdkit.Chem import AllChem

# The matched molecules currently have 3D coordinates
# To ensure a clear and consistent 2D representation for drawing, we compute 2D coordinates
for match in matches:
    AllChem.Compute2DCoords(match)

# Draw a grid of the first 9 matched molecules
img = Draw.MolsToGridImage(matches[0:9], legends=matches_labels)
img





# Write your solution code here, adding extra code cells if necessary





# Import multiple classes from a module using commas
from rdkit.Chem.FilterCatalog import FilterCatalog, FilterCatalogParams

# Create an object to hold the `FilterCatalogParams()` function
params = FilterCatalogParams()

# Add PAINS patterns to the parameters
params.AddCatalog(FilterCatalogParams.FilterCatalogs.PAINS)

# Create a filter catalogue using the defined parameters
catalog = FilterCatalog(params)

# Print the number of PAINS patterns in the catalogue
print('Number of PAINS patterns:', catalog.GetNumEntries())





# Define the file path for the dataset of MAPK compounds
csv_file = 'data/MAPK_compounds.csv'

# Read the file into a supplier of `Mol` objects using the `Chem.SmilesMolSupplier()` function
# Each molecule in the CSV file is read as an RDKit `Mol` object
# SMILES strings are in the 5th column, molecule names are in the 2nd column
supplier = Chem.SmilesMolSupplier(csv_file, delimiter=',', smilesColumn=4, nameColumn=1)

# Initialise lists to store filtered and retained molecules
filtered_mols = []   # Molecules containing PAINS substructures
filtered_pains = []  # Descriptions of the PAINS patterns for filtered molecules
kept_mols = []       # Molecules that do not contain PAINS substructures

# Perform PAINS filtering
for molecule in supplier:
    if molecule is None: 
        continue  # Skip invalid or unreadable molecules
    # Check if the molecule matches any PAINS pattern using the catalogue
    match = catalog.GetFirstMatch(molecule)
    if match:  # If a PAINS pattern is matched
        AllChem.Compute2DCoords(molecule)  # Ensure 2D coordinates for drawing
        filtered_mols.append(molecule)  # Add molecule to the filtered list
        filtered_pains.append(match.GetDescription())  # Save the PAINS description
    else:  # If no PAINS patterns match
        kept_mols.append(molecule)  # Add molecule to the `kept_mols` list

# Output the number of molecules filtered out
print('Number of PAINS:', len(filtered_mols))

# Output the number of remaining molecules
print('Remaining molecules:', len(kept_mols))

# Visualise the first 9 filtered molecules with their PAINS descriptions
img = Draw.MolsToGridImage(filtered_mols[0:9], legends=filtered_pains[0:9])
img



