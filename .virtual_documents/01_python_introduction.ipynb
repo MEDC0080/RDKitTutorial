


print("This is a code cell.")





# This is a comment
# Notice that this cell outputs nothing when run





# The line below will print the sum of two numbers
print(10 + 12)





# In this line we assign the text "Hello, World!" to the variable `my_string`
my_string = "Hello, World!"

# We can print the contents of the variable using the print function
print(my_string)

# We can also create aliases to the same data
my_string_alias = my_string

# Another way to assign the text to two different variables
my_string = my_string_alias = "Hello, World"





# Double quote syntax
string_one = "This is a string."
print(string_one)

# Single quote syntax
string_two = 'This is also a string'
print(string_two)

# Triple quote syntax
string_three = """This is also another string but it 
can span multiple lines."""
print(string_three)





x = 42    # Integer
y = 42.0  # Float
z = 1j    # Complex

print(x)
print(y)
print(z)

# To verify the type of variable we can use the `type()` function
print(type(x))
print(type(y))
print(type(z))





big_float = 1e9
small_float = -82.7e10  # Negative number

print(big_float)
print(small_float)





x = 1    # Integer
y = 2.8  # Float

# Convert from integer to float
a = float(x)

# Convert from float to integer
b = int(y)

print(x, "->", a)
print(y, "->", b)

# We can verify that the type has changed
print(type(a))
print(type(b))





print(10 > 9)   # Greater than `>`
print(10 == 9)  # Equal to `==`
print(10 < 9)   # Less than `<`

# We can also assign Booleans to variables
true = True
false = False

# Verify that the type is indeed Boolean
print(type(true))
print(type(false))





true_int = int(True)    # Convert the Boolean `True` to an integer
false_int = int(False)  # Convert the Boolean `False` to an integer

# What will these lines print?
print(true_int)
print(false_int)





# Define and print a list containg colours
colour_list = ['red', 'green', 'blue', 'yellow', 'white', 'black']
print(colour_list)





print(colour_list[0])
print(colour_list[1])
print(colour_list[3])
print(colour_list[-1])
print(colour_list[-3])

# We can also change a value using indexing (the index must already exist)
colour_list[4] = 'purple'

# Verify the change
print(colour_list)

# What do you think this will output?
print(colour_list[0:3])





# Add an item to the list
colour_list.append('pink')

# Verify that 'pink' was added to the end of the list
print(colour_list)





xyz = (3.01, 1.23, -1.22)  # Define a tuple holding three-dimensional coordinates

# Add your solution code here





# xyz[1] = 2.90





my_tuple = (1,)     # This will assign a tuple
my_not_tuple = (1)  # This will NOT assign a tuple

print(type(my_tuple))
print(type(my_not_tuple))





# Define a set holding the names of fruits
fruit_set = {'cherry', 'banana', 'apple'}
print(fruit_set)

# We can add items to the set using the `.add()` method
fruit_set.add('mango')
print(fruit_set)

# Duplicates are not allowed in sets
fruit_set.add('apple')
print(fruit_set)

# We can remove items using the `.remove()` method
fruit_set.remove('cherry')
print(fruit_set)





a = {1, 2, 3}  # Define a set of numbers
b = {3, 4, 5}  # Define another set of numbers

# Compute the intersection
intersection = a.intersection(b)
print(intersection)

# Compute the union
union = a.union(b)
print(union)





# Define a dictionary describing a user
user_dict = {
    'name': 'John',
    'last_name': 'Doe',
    'age': 22
}
print(user_dict)

# We can index the dictionary using keys
age_value = user_dict['age']  # Get the age of the user
print(age_value)

# We can add items using a similar syntax
user_dict['bought'] = ['apple', 'mango']
print(user_dict)

# We can also change values easily
user_dict['age'] = 23
print(user_dict)





x = 10  # Define an integer 10
y = 2   # Define an integer 2

print(x + y)   # Addition
print(x - y)   # Subtraction
print(x * y)   # Multiplication
print(x / y)   # Division
print(x % y)   # Modulus (remainder) 
print(x ** y)  # Exponentiation

y = 3          # Redefine y so we can see the effect of floor division 
print(x / y)   # Division
print(x // y)  # Floor division





x = 5  # Assign 5 to x
x * 2  # No change to x

# Let's verify that nothing has changed
print(x)

# Now we will try an assignment operator
x *= 2
print(x)  # Notice that x is now 10

# We use the other syntax when we want to store the answer in a different variable
y = x / 2
print(y)





x = 15
y = 5.5

print(x == y)
print(x != y)
print(x > y)
print(x < y)
print(x >= y)
print(x <= y)





import time  # Import the module

current_time = time.ctime()                  # Get the current time
print('The current time is:', current_time)  # Print the current time





# Import the `ctime` function from the `time` module
from time import ctime 

current_time = ctime()
print('The current time is:', current_time)





import math

math.exp(10)  # Use the shortcut when this line is selected





10 / 0


int('hello')  # Will raise a ValueError as we cannot convert a string to an integer





number = '10'
print(type(number))

number = int(number)  # Reassign `number` to the integer version of its value
print(type(number))





def tell_the_time():
    """
    This function returns the current time.

    Indentation is crucial in Python to define the scope of the code. 
    Ensure you use consistent spacing to avoid errors.

    The `return` keyword specifies the value that the function outputs 
    when it is called.
    """
    import time  # Importing the time module within the function scope
    the_time = time.ctime()
    return the_time

# Call the function and save its output to the variable `current_time`
current_time = tell_the_time()

# Print the result
print("The current time is:", current_time)





def greet(name):
    """
    This function generates a personalised greeting message.

    Parameters:
    -----------
    name : str
    
    The name to include in the greeting message.

    Example:
    --------
    To call the function and create a greeting:
    `greet('Emily')`

    Inside the function, the argument `name` is used to dynamically 
    generate the greeting. This makes the function reusable with 
    different inputs.

    Note:
    -----
    The `format` method is used to replace `{}` in the string with the 
    value of the `name` argument.
    """
    greeting = 'Hello, {}!'.format(name)
    return greeting

# Example usage of the function
our_name = 'John Doe'
message = greet(our_name)  # Call the function and save the output

# Print the personalised greeting
print(message)





x = 100
y = 2

if x > y:
    print('x is greater than y')





x = 100
y = 200

if x == y:
    print('x is equal to y')
else:
    print('x is not equal to y')





x = 200
y = 33

if x < y:
    print("x is less than y")
elif x == y:
    print("x and y are equal")
else:
    print("x is greater than y")





shopping_list = ['apples', 'cereal', 'beer', 'milk']  # Define a sequence of items

"""
As we iterate through the list, each item is evaluated individually.
After the evaluation of an item is complete we move to the next item 
automatically.

In this case, the loop will assign each item in the list to the variable
`item`, so that we can use it in our code.

Here, we use a conditional to control how we process each item.
"""

for item in shopping_list:
    if item == 'beer' or item == 'milk':
        print('We need to buy:', item, '(Drink)')
    else:
        print('We need to buy:', item, '(Food)')





i = 1  # We will start at 1

"""
Here we evaluate code until a condition is met.
In this case we are waiting until i > 6.

Remember we need to increment i. We use the assignment
operator here. If we forget to increment i, the loop
will run forever!

If this were to happen you could interrupt the kernel 
in the toolbar above to stop code execution.
"""

while i <= 6:
    print(i)
    i += 1





file_path = 'data/lorem_ipsum.txt'

# Open the file and read its content
with open(file_path) as f:
    content = f.read()  # Read the entire content with the `.read()` method

# The file is now closed as we are outside the `with` block
print(f.closed)  # Check if the file is closed

# Print the content of the file
print("\n" + "File content: " + content)  # The "\n" adds a new line



