


from rdkit import Chem





smiles_1 = 'CC(=O)OC1=CC=CC=C1C(O)=O'   # This is the SMILES for Aspirin
aspirin = Chem.MolFromSmiles(smiles_1)  # The molecule is loaded into an RDKit `Mol` object

print(aspirin)





aspirin  # Running this cell should return the chemical structure of Aspirin





from rdkit.Chem import Draw 

# This is the SMILES for Remdesivir, an antiviral medicine for the treatment of COVID-19
smiles_2 = 'CCC(CC)COC(=O)[C@H](C)N[P@](=O)(OC[C@@H]1[C@H]([C@H]([C@](O1)(C#N)C2=CC=C3N2N=CN=C3N)O)O)OC4=CC=CC=C4'
remdesivir = Chem.MolFromSmiles(smiles_2)

# Draw Aspirin and Remdesivir together
mols = [aspirin, remdesivir]  # The function expects the molecules to be in a list
Draw.MolsToGridImage(mols)





Draw.MolsToGridImage(mols, legends=['Aspirin', 'Remdesivir'])





# Define the MolBlock representation of the phenol molecule
molblock = """phenol
  Mrv1682210081607082D          

  7  7  0  0  0  0            999 V2000
   -0.6473    1.0929    0.0000 C   0  0  0  0  0  0  0  0  0  0  0  0
   -1.3618    0.6804    0.0000 C   0  0  0  0  0  0  0  0  0  0  0  0
   -1.3618   -0.1447    0.0000 C   0  0  0  0  0  0  0  0  0  0  0  0
   -0.6473   -0.5572    0.0000 C   0  0  0  0  0  0  0  0  0  0  0  0
    0.0671   -0.1447    0.0000 C   0  0  0  0  0  0  0  0  0  0  0  0
    0.0671    0.6804    0.0000 C   0  0  0  0  0  0  0  0  0  0  0  0
    0.7816    1.0929    0.0000 O   0  0  0  0  0  0  0  0  0  0  0  0
  1  2  1  0  0  0  0
  2  3  2  0  0  0  0
  3  4  1  0  0  0  0
  4  5  2  0  0  0  0
  5  6  1  0  0  0  0
  1  6  2  0  0  0  0
  6  7  1  0  0  0  0
M  END
"""

# Load the molecule into an RDKit object
phenol = Chem.MolFromMolBlock(molblock)

# Display the object
phenol





# We can use the `.GetNumAtoms()` method to get the number of atoms in the molecule
phenol_num_atoms = phenol.GetNumAtoms()
print('Phenol has', phenol_num_atoms, 'atoms')





# Add your solution code here





from rdkit.Chem import Descriptors

smiles = 'CC(C)(C)NCC(O)C1=CC(CO)=C(O)C=C1'  # This is the SMILES for Salbutamol
salbutamol = Chem.MolFromSmiles(smiles)

# Calculate some interesting descriptors
print('Salbutamol:' + '\n' + '_' * 11)
print('Heavy atoms:', Descriptors.HeavyAtomCount(salbutamol))
print('H-bond donors:', Descriptors.NumHDonors(salbutamol))
print('H-bond acceptors:', Descriptors.NumHAcceptors(salbutamol))
print('Molecular weight:', Descriptors.MolWt(salbutamol), 'g/mol')
print('LogP:', Descriptors.MolLogP(salbutamol))
print('TPSA:', Descriptors.TPSA(salbutamol))

salbutamol





# Descriptors.





# Add your solution code here





from rdkit import Chem
from rdkit.Chem import Descriptors

# Path to the SDF file containing approved drugs
approved_drugs_file = 'data/approved_drugs.sdf'

# Read the file into a supplier of `Mol` objects using the `Chem.SDMolSupplier()` function
# Each molecule in the SDF file is read as an RDKit `Mol` object
supplier = Chem.SDMolSupplier(approved_drugs_file)

# Initialise variables
n = 0             # Counter to track the number of successfully read molecules
mol_weights = []  # List to store molecular weights

# Iterate through the supplier to load molecules one by one
for molecule in supplier:
    if molecule is None:   # Skip molecules that failed to parse (represented as `None`)
        continue
    num_atoms = molecule.GetNumAtoms()       # Extract the number of atoms in the molecule
    mw = Descriptors.MolWt(molecule)         # Calculate the molecular weight using RDKit descriptors
    mol_weights.append(mw)                   # Append the molecular weight to the list
    # Extract additional properties stored in the SDF file (if available)
    synonyms = molecule.GetProp('SYNONYMS')  # The `.GetProp()` method retrieves a property value by its key
    # Print relevant information about the molecule
    print(f"Synonyms: {synonyms}, NumAtoms: {num_atoms}, MolecularWeight: {mw}")
    # Increment the counter for successfully read molecules
    n += 1

# Print the total number of successfully read molecules
print(f"\nNumber of molecules read: {n}")





n = len(mol_weights)
print(n)  # Should be the same as the number of molecules read

maximum = max(mol_weights)
print('Max MW:', maximum)

minimum = min(mol_weights)
print('Min MW:', minimum)

mean = sum(mol_weights) / n
print('Mean MW', mean)





import statistics

print('Median MW:         ', statistics.median(mol_weights))  # Median
print('Standard deviation:', statistics.stdev(mol_weights))   # Standard deviation





# Add your solution code here





from rdkit.Chem import AllChem  # We need some extra functions from `AllChem`

smiles = r'[H]\C(CN1CCCC1)=C(\C1=CC=C(C)C=C1)C1=CC=CC(=N1)C(\[H])=C(/[H])C(O)=O' # This is the SMILES for Acrivastine
molecule = Chem.MolFromSmiles(smiles)                                            # Molecules read from SMILES are always 2D

# Add hydrogens to create a more realistic molecular model
molecule3d = Chem.AddHs(molecule)

# Generate a single 3D conformation for the molecule
AllChem.EmbedMolecule(molecule3d)

# Draw the result
Draw.MolsToGridImage([molecule, molecule3d], legends=['Acrivastine (2D)', 'Acrivastine (3D)'], subImgSize=(300, 300))





# Output the MolBlock representation of the 3D molecule
print("3D MolBlock:")
print(Chem.MolToMolBlock(molecule3d))

# To compare, convert the original 2D molecule to a MolBlock and print it
print("2D MolBlock:")
print(Chem.MolToMolBlock(molecule))



